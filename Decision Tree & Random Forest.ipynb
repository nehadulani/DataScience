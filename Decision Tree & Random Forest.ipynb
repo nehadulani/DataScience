{
 "cells": [
  {
   "cell_type": "code",
   "execution_count": 1,
   "id": "64f170a7",
   "metadata": {},
   "outputs": [],
   "source": [
    "### Objective: Given the characterstics of an investor. Can we predict that investor is a high revenue customer\n",
    "### or low revenue customer."
   ]
  },
  {
   "cell_type": "code",
   "execution_count": 2,
   "id": "9db72f91",
   "metadata": {},
   "outputs": [],
   "source": [
    "import pandas as pd\n",
    "import numpy as np\n",
    "import matplotlib.pyplot as plt\n",
    "import seaborn as sns\n",
    "from sklearn.metrics import plot_roc_curve\n",
    "%matplotlib inline"
   ]
  },
  {
   "cell_type": "code",
   "execution_count": 3,
   "id": "19efcee0",
   "metadata": {},
   "outputs": [
    {
     "data": {
      "text/html": [
       "<div>\n",
       "<style scoped>\n",
       "    .dataframe tbody tr th:only-of-type {\n",
       "        vertical-align: middle;\n",
       "    }\n",
       "\n",
       "    .dataframe tbody tr th {\n",
       "        vertical-align: top;\n",
       "    }\n",
       "\n",
       "    .dataframe thead th {\n",
       "        text-align: right;\n",
       "    }\n",
       "</style>\n",
       "<table border=\"1\" class=\"dataframe\">\n",
       "  <thead>\n",
       "    <tr style=\"text-align: right;\">\n",
       "      <th></th>\n",
       "      <th>REF_NO</th>\n",
       "      <th>children</th>\n",
       "      <th>age_band</th>\n",
       "      <th>status</th>\n",
       "      <th>occupation</th>\n",
       "      <th>occupation_partner</th>\n",
       "      <th>home_status</th>\n",
       "      <th>family_income</th>\n",
       "      <th>self_employed</th>\n",
       "      <th>self_employed_partner</th>\n",
       "      <th>...</th>\n",
       "      <th>Investment Tax Saving Bond</th>\n",
       "      <th>Home Loan</th>\n",
       "      <th>Online Purchase Amount</th>\n",
       "      <th>Revenue Grid</th>\n",
       "      <th>gender</th>\n",
       "      <th>region</th>\n",
       "      <th>Investment in Commudity</th>\n",
       "      <th>Investment in Equity</th>\n",
       "      <th>Investment in Derivative</th>\n",
       "      <th>Portfolio Balance</th>\n",
       "    </tr>\n",
       "  </thead>\n",
       "  <tbody>\n",
       "    <tr>\n",
       "      <th>0</th>\n",
       "      <td>1</td>\n",
       "      <td>Zero</td>\n",
       "      <td>51-55</td>\n",
       "      <td>Partner</td>\n",
       "      <td>Manual Worker</td>\n",
       "      <td>Secretarial/Admin</td>\n",
       "      <td>Own Home</td>\n",
       "      <td>&lt;17,500, &gt;=15,000</td>\n",
       "      <td>No</td>\n",
       "      <td>No</td>\n",
       "      <td>...</td>\n",
       "      <td>19.99</td>\n",
       "      <td>0.00</td>\n",
       "      <td>0.00</td>\n",
       "      <td>1</td>\n",
       "      <td>Female</td>\n",
       "      <td>Wales</td>\n",
       "      <td>74.67</td>\n",
       "      <td>18.66</td>\n",
       "      <td>32.32</td>\n",
       "      <td>89.43</td>\n",
       "    </tr>\n",
       "    <tr>\n",
       "      <th>1</th>\n",
       "      <td>2</td>\n",
       "      <td>Zero</td>\n",
       "      <td>55-60</td>\n",
       "      <td>Single/Never Married</td>\n",
       "      <td>Retired</td>\n",
       "      <td>Retired</td>\n",
       "      <td>Own Home</td>\n",
       "      <td>&lt;27,500, &gt;=25,000</td>\n",
       "      <td>No</td>\n",
       "      <td>No</td>\n",
       "      <td>...</td>\n",
       "      <td>0.00</td>\n",
       "      <td>0.00</td>\n",
       "      <td>0.00</td>\n",
       "      <td>2</td>\n",
       "      <td>Female</td>\n",
       "      <td>North West</td>\n",
       "      <td>20.19</td>\n",
       "      <td>0.00</td>\n",
       "      <td>4.33</td>\n",
       "      <td>22.78</td>\n",
       "    </tr>\n",
       "    <tr>\n",
       "      <th>2</th>\n",
       "      <td>3</td>\n",
       "      <td>Zero</td>\n",
       "      <td>26-30</td>\n",
       "      <td>Single/Never Married</td>\n",
       "      <td>Professional</td>\n",
       "      <td>Other</td>\n",
       "      <td>Own Home</td>\n",
       "      <td>&lt;30,000, &gt;=27,500</td>\n",
       "      <td>Yes</td>\n",
       "      <td>No</td>\n",
       "      <td>...</td>\n",
       "      <td>0.00</td>\n",
       "      <td>3.49</td>\n",
       "      <td>0.00</td>\n",
       "      <td>2</td>\n",
       "      <td>Male</td>\n",
       "      <td>North</td>\n",
       "      <td>98.06</td>\n",
       "      <td>31.07</td>\n",
       "      <td>80.96</td>\n",
       "      <td>171.78</td>\n",
       "    </tr>\n",
       "    <tr>\n",
       "      <th>3</th>\n",
       "      <td>5</td>\n",
       "      <td>Zero</td>\n",
       "      <td>18-21</td>\n",
       "      <td>Single/Never Married</td>\n",
       "      <td>Professional</td>\n",
       "      <td>Manual Worker</td>\n",
       "      <td>Own Home</td>\n",
       "      <td>&lt;15,000, &gt;=12,500</td>\n",
       "      <td>No</td>\n",
       "      <td>No</td>\n",
       "      <td>...</td>\n",
       "      <td>0.00</td>\n",
       "      <td>0.00</td>\n",
       "      <td>0.00</td>\n",
       "      <td>2</td>\n",
       "      <td>Female</td>\n",
       "      <td>West Midlands</td>\n",
       "      <td>4.10</td>\n",
       "      <td>14.15</td>\n",
       "      <td>17.57</td>\n",
       "      <td>-41.70</td>\n",
       "    </tr>\n",
       "    <tr>\n",
       "      <th>4</th>\n",
       "      <td>6</td>\n",
       "      <td>Zero</td>\n",
       "      <td>45-50</td>\n",
       "      <td>Partner</td>\n",
       "      <td>Business Manager</td>\n",
       "      <td>Unknown</td>\n",
       "      <td>Own Home</td>\n",
       "      <td>&lt;30,000, &gt;=27,500</td>\n",
       "      <td>No</td>\n",
       "      <td>No</td>\n",
       "      <td>...</td>\n",
       "      <td>0.00</td>\n",
       "      <td>45.91</td>\n",
       "      <td>25.98</td>\n",
       "      <td>2</td>\n",
       "      <td>Female</td>\n",
       "      <td>Scotland</td>\n",
       "      <td>70.16</td>\n",
       "      <td>55.86</td>\n",
       "      <td>80.44</td>\n",
       "      <td>235.02</td>\n",
       "    </tr>\n",
       "  </tbody>\n",
       "</table>\n",
       "<p>5 rows × 31 columns</p>\n",
       "</div>"
      ],
      "text/plain": [
       "   REF_NO children age_band                status        occupation  \\\n",
       "0       1     Zero    51-55               Partner     Manual Worker   \n",
       "1       2     Zero    55-60  Single/Never Married           Retired   \n",
       "2       3     Zero    26-30  Single/Never Married      Professional   \n",
       "3       5     Zero    18-21  Single/Never Married      Professional   \n",
       "4       6     Zero    45-50               Partner  Business Manager   \n",
       "\n",
       "  occupation_partner home_status      family_income self_employed  \\\n",
       "0  Secretarial/Admin    Own Home  <17,500, >=15,000            No   \n",
       "1            Retired    Own Home  <27,500, >=25,000            No   \n",
       "2              Other    Own Home  <30,000, >=27,500           Yes   \n",
       "3      Manual Worker    Own Home  <15,000, >=12,500            No   \n",
       "4            Unknown    Own Home  <30,000, >=27,500            No   \n",
       "\n",
       "  self_employed_partner  ...  Investment Tax Saving Bond Home Loan  \\\n",
       "0                    No  ...                       19.99      0.00   \n",
       "1                    No  ...                        0.00      0.00   \n",
       "2                    No  ...                        0.00      3.49   \n",
       "3                    No  ...                        0.00      0.00   \n",
       "4                    No  ...                        0.00     45.91   \n",
       "\n",
       "  Online Purchase Amount  Revenue Grid  gender         region  \\\n",
       "0                   0.00             1  Female          Wales   \n",
       "1                   0.00             2  Female     North West   \n",
       "2                   0.00             2    Male          North   \n",
       "3                   0.00             2  Female  West Midlands   \n",
       "4                  25.98             2  Female       Scotland   \n",
       "\n",
       "   Investment in Commudity  Investment in Equity  Investment in Derivative  \\\n",
       "0                    74.67                 18.66                     32.32   \n",
       "1                    20.19                  0.00                      4.33   \n",
       "2                    98.06                 31.07                     80.96   \n",
       "3                     4.10                 14.15                     17.57   \n",
       "4                    70.16                 55.86                     80.44   \n",
       "\n",
       "   Portfolio Balance  \n",
       "0              89.43  \n",
       "1              22.78  \n",
       "2             171.78  \n",
       "3             -41.70  \n",
       "4             235.02  \n",
       "\n",
       "[5 rows x 31 columns]"
      ]
     },
     "execution_count": 3,
     "metadata": {},
     "output_type": "execute_result"
    }
   ],
   "source": [
    "data=pd.read_csv(r\"C:\\Users\\ndulani\\OneDrive - BMC Software, Inc\\Desktop\\DS\\ML\\Logistic Regression\\Existing_Base.csv\")\n",
    "data.head()"
   ]
  },
  {
   "cell_type": "code",
   "execution_count": 4,
   "id": "0fca4d3d",
   "metadata": {},
   "outputs": [],
   "source": [
    "### Target variable : Revenue Grid discrete in nature. Hence Supervised Learning --> Classification problem\n",
    "# Revenue Grid column has 2 values: 1 and 2\n",
    "# 1 indicates high revenue customer\n",
    "# 2 indicates low revenue customer"
   ]
  },
  {
   "cell_type": "markdown",
   "id": "d84a1e9d",
   "metadata": {},
   "source": [
    "### Sanity Check"
   ]
  },
  {
   "cell_type": "code",
   "execution_count": 5,
   "id": "e4329e66",
   "metadata": {},
   "outputs": [
    {
     "data": {
      "text/plain": [
       "(10155, 31)"
      ]
     },
     "execution_count": 5,
     "metadata": {},
     "output_type": "execute_result"
    }
   ],
   "source": [
    "# Logical Dependency: True\n",
    "# Data Adequacy : True\n",
    "\n",
    "data.shape"
   ]
  },
  {
   "cell_type": "code",
   "execution_count": 6,
   "id": "6968825f",
   "metadata": {},
   "outputs": [
    {
     "data": {
      "text/plain": [
       "2    9069\n",
       "1    1086\n",
       "Name: Revenue Grid, dtype: int64"
      ]
     },
     "execution_count": 6,
     "metadata": {},
     "output_type": "execute_result"
    }
   ],
   "source": [
    "# Distribution of Target column\n",
    "\n",
    "data['Revenue Grid'].value_counts()\n",
    "\n",
    "#### There is class imbalance in my dataset. We might ask for more observations for class 1.\n",
    "\n",
    "#### if the distribution is 80%-20% - generally not a major concern.\n",
    "#### if the distribution is between 80%-20% and 95%-5% -  area of slight concern..\n",
    "#### if the distribution around 95-5% - we should get concerned - expect that your model might be a bad model"
   ]
  },
  {
   "cell_type": "markdown",
   "id": "f5219536",
   "metadata": {},
   "source": [
    "### EDA"
   ]
  },
  {
   "cell_type": "code",
   "execution_count": 7,
   "id": "7fe896ce",
   "metadata": {},
   "outputs": [
    {
     "name": "stdout",
     "output_type": "stream",
     "text": [
      "<class 'pandas.core.frame.DataFrame'>\n",
      "RangeIndex: 10155 entries, 0 to 10154\n",
      "Data columns (total 31 columns):\n",
      " #   Column                           Non-Null Count  Dtype  \n",
      "---  ------                           --------------  -----  \n",
      " 0   REF_NO                           10155 non-null  int64  \n",
      " 1   children                         10155 non-null  object \n",
      " 2   age_band                         10155 non-null  object \n",
      " 3   status                           10155 non-null  object \n",
      " 4   occupation                       10155 non-null  object \n",
      " 5   occupation_partner               10155 non-null  object \n",
      " 6   home_status                      10155 non-null  object \n",
      " 7   family_income                    10155 non-null  object \n",
      " 8   self_employed                    10155 non-null  object \n",
      " 9   self_employed_partner            10155 non-null  object \n",
      " 10  year_last_moved                  10155 non-null  int64  \n",
      " 11  post_code                        10155 non-null  object \n",
      " 12  post_area                        10155 non-null  object \n",
      " 13  Average Credit Card Transaction  10155 non-null  float64\n",
      " 14  Balance Transfer                 10155 non-null  float64\n",
      " 15  Term Deposit                     10155 non-null  float64\n",
      " 16  Life Insurance                   10155 non-null  float64\n",
      " 17  Medical Insurance                10155 non-null  float64\n",
      " 18  Average A/C Balance              10155 non-null  float64\n",
      " 19  Personal Loan                    10155 non-null  float64\n",
      " 20  Investment in Mutual Fund        10155 non-null  float64\n",
      " 21  Investment Tax Saving Bond       10155 non-null  float64\n",
      " 22  Home Loan                        10155 non-null  float64\n",
      " 23  Online Purchase Amount           10155 non-null  float64\n",
      " 24  Revenue Grid                     10155 non-null  int64  \n",
      " 25  gender                           10155 non-null  object \n",
      " 26  region                           10155 non-null  object \n",
      " 27  Investment in Commudity          10155 non-null  float64\n",
      " 28  Investment in Equity             10155 non-null  float64\n",
      " 29  Investment in Derivative         10155 non-null  float64\n",
      " 30  Portfolio Balance                10155 non-null  float64\n",
      "dtypes: float64(15), int64(3), object(13)\n",
      "memory usage: 2.4+ MB\n"
     ]
    }
   ],
   "source": [
    "# Printing the information regarding columns in the data\n",
    "data.info()"
   ]
  },
  {
   "cell_type": "code",
   "execution_count": 8,
   "id": "ab8822fe",
   "metadata": {},
   "outputs": [],
   "source": [
    "#### Insight #####\n",
    "\n",
    "# Out of 31 columns, we have around 18 columns of numeric type, 13 columns of string type\n",
    "# There doesn't seem to have missing values in the columns."
   ]
  },
  {
   "cell_type": "code",
   "execution_count": 9,
   "id": "fc99f50a",
   "metadata": {},
   "outputs": [
    {
     "data": {
      "image/png": "[encoded data removed]",
      "text/plain": [
       "<Figure size 1440x1440 with 18 Axes>"
      ]
     },
     "metadata": {
      "needs_background": "light"
     },
     "output_type": "display_data"
    }
   ],
   "source": [
    "# Visualizing numeric columns\n",
    "numeric_cols=data.select_dtypes(include=np.number) # creating dataframe with numeric columns\n",
    "column_names=list(numeric_cols.columns)\n",
    "\n",
    "col_index=0\n",
    "plot_rows=6\n",
    "plot_cols=3\n",
    "\n",
    "fig,ax=plt.subplots(plot_rows,plot_cols,figsize=(20,20))\n",
    "for rowcount in range(plot_rows):\n",
    "    for colcount in range(plot_cols):\n",
    "        ax[rowcount][colcount].scatter(y=numeric_cols[column_names[col_index]],x=numeric_cols.index)\n",
    "        ax[rowcount][colcount].set_ylabel(column_names[col_index])\n",
    "        col_index=col_index+1"
   ]
  },
  {
   "cell_type": "code",
   "execution_count": 10,
   "id": "740f9a6e",
   "metadata": {},
   "outputs": [],
   "source": [
    "###### Insights #####\n",
    "\n",
    "## Ref Number column just contains the index so can be removed.\n",
    "## year_last_moved column seem to have many values close to 0 or 0, these seem to be missing values, investigate them.\n",
    "## A single customer with very high value of balance transfer/life insurance etc stands out, this row could be considered outlier and be removed, #row number 250\n",
    "## Capping could be done to limit the impact of outliers.\n",
    "## Scaling could be done since the scale is different for most of the variables."
   ]
  },
  {
   "cell_type": "code",
   "execution_count": 11,
   "id": "195dc523",
   "metadata": {},
   "outputs": [
    {
     "data": {
      "text/html": [
       "<div>\n",
       "<style scoped>\n",
       "    .dataframe tbody tr th:only-of-type {\n",
       "        vertical-align: middle;\n",
       "    }\n",
       "\n",
       "    .dataframe tbody tr th {\n",
       "        vertical-align: top;\n",
       "    }\n",
       "\n",
       "    .dataframe thead th {\n",
       "        text-align: right;\n",
       "    }\n",
       "</style>\n",
       "<table border=\"1\" class=\"dataframe\">\n",
       "  <thead>\n",
       "    <tr style=\"text-align: right;\">\n",
       "      <th></th>\n",
       "      <th>REF_NO</th>\n",
       "      <th>children</th>\n",
       "      <th>age_band</th>\n",
       "      <th>status</th>\n",
       "      <th>occupation</th>\n",
       "      <th>occupation_partner</th>\n",
       "      <th>home_status</th>\n",
       "      <th>family_income</th>\n",
       "      <th>self_employed</th>\n",
       "      <th>self_employed_partner</th>\n",
       "      <th>...</th>\n",
       "      <th>Investment Tax Saving Bond</th>\n",
       "      <th>Home Loan</th>\n",
       "      <th>Online Purchase Amount</th>\n",
       "      <th>Revenue Grid</th>\n",
       "      <th>gender</th>\n",
       "      <th>region</th>\n",
       "      <th>Investment in Commudity</th>\n",
       "      <th>Investment in Equity</th>\n",
       "      <th>Investment in Derivative</th>\n",
       "      <th>Portfolio Balance</th>\n",
       "    </tr>\n",
       "  </thead>\n",
       "  <tbody>\n",
       "    <tr>\n",
       "      <th>250</th>\n",
       "      <td>279</td>\n",
       "      <td>1</td>\n",
       "      <td>41-45</td>\n",
       "      <td>Partner</td>\n",
       "      <td>Professional</td>\n",
       "      <td>Professional</td>\n",
       "      <td>Own Home</td>\n",
       "      <td>&gt;=35,000</td>\n",
       "      <td>No</td>\n",
       "      <td>No</td>\n",
       "      <td>...</td>\n",
       "      <td>9.48</td>\n",
       "      <td>0.0</td>\n",
       "      <td>0.0</td>\n",
       "      <td>2</td>\n",
       "      <td>Male</td>\n",
       "      <td>North</td>\n",
       "      <td>1231.09</td>\n",
       "      <td>1279.1</td>\n",
       "      <td>1771.16</td>\n",
       "      <td>4283.56</td>\n",
       "    </tr>\n",
       "  </tbody>\n",
       "</table>\n",
       "<p>1 rows × 31 columns</p>\n",
       "</div>"
      ],
      "text/plain": [
       "     REF_NO children age_band   status    occupation occupation_partner  \\\n",
       "250     279        1    41-45  Partner  Professional       Professional   \n",
       "\n",
       "    home_status family_income self_employed self_employed_partner  ...  \\\n",
       "250    Own Home      >=35,000            No                    No  ...   \n",
       "\n",
       "     Investment Tax Saving Bond Home Loan Online Purchase Amount  \\\n",
       "250                        9.48       0.0                    0.0   \n",
       "\n",
       "     Revenue Grid  gender  region  Investment in Commudity  \\\n",
       "250             2    Male   North                  1231.09   \n",
       "\n",
       "     Investment in Equity  Investment in Derivative  Portfolio Balance  \n",
       "250                1279.1                   1771.16            4283.56  \n",
       "\n",
       "[1 rows x 31 columns]"
      ]
     },
     "execution_count": 11,
     "metadata": {},
     "output_type": "execute_result"
    }
   ],
   "source": [
    "# Finding Outlier\n",
    "data.loc[numeric_cols['Balance Transfer']>2500]"
   ]
  },
  {
   "cell_type": "code",
   "execution_count": 12,
   "id": "f168750c",
   "metadata": {},
   "outputs": [
    {
     "data": {
      "text/plain": [
       "84"
      ]
     },
     "execution_count": 12,
     "metadata": {},
     "output_type": "execute_result"
    }
   ],
   "source": [
    "# Year Last moved\n",
    "\n",
    "sum(data['year_last_moved']==0)\n",
    "# 84 rows out of 10k rows have zero values.\n",
    "# Also, year last moved isn't helping me to predict Revenue Grid. Let's drop it"
   ]
  },
  {
   "cell_type": "code",
   "execution_count": 13,
   "id": "bf0243ce",
   "metadata": {},
   "outputs": [
    {
     "name": "stdout",
     "output_type": "stream",
     "text": [
      "Column: children\n",
      "Unique: 5\n",
      "*****************\n",
      "Column: age_band\n",
      "Unique: 13\n",
      "*****************\n",
      "Column: status\n",
      "Unique: 5\n",
      "*****************\n",
      "Column: occupation\n",
      "Unique: 9\n",
      "*****************\n",
      "Column: occupation_partner\n",
      "Unique: 9\n",
      "*****************\n",
      "Column: home_status\n",
      "Unique: 5\n",
      "*****************\n",
      "Column: family_income\n",
      "Unique: 13\n",
      "*****************\n",
      "Column: self_employed\n",
      "Unique: 2\n",
      "*****************\n",
      "Column: self_employed_partner\n",
      "Unique: 2\n",
      "*****************\n",
      "Column: post_code\n",
      "Unique: 10040\n",
      "*****************\n",
      "Column: post_area\n",
      "Unique: 2039\n",
      "*****************\n",
      "Column: gender\n",
      "Unique: 3\n",
      "*****************\n",
      "Column: region\n",
      "Unique: 13\n",
      "*****************\n"
     ]
    },
    {
     "name": "stderr",
     "output_type": "stream",
     "text": [
      "C:\\Users\\ndulani\\AppData\\Local\\Temp/ipykernel_9644/3721016082.py:3: DeprecationWarning: `np.object` is a deprecated alias for the builtin `object`. To silence this warning, use `object` by itself. Doing this will not modify any behavior and is safe. \n",
      "Deprecated in NumPy 1.20; for more details and guidance: https://numpy.org/devdocs/release/1.20.0-notes.html#deprecations\n",
      "  cat_data=data.select_dtypes(include=np.object)\n"
     ]
    }
   ],
   "source": [
    "# Describing categorical columns\n",
    "\n",
    "cat_data=data.select_dtypes(include=np.object)\n",
    "cat_columns=list(cat_data.columns)\n",
    "\n",
    "for col in cat_columns:\n",
    "    print(f'Column: {col}')\n",
    "    print(f'Unique: {cat_data[col].nunique()}')\n",
    "    print('*****************')\n"
   ]
  },
  {
   "cell_type": "markdown",
   "id": "de01acfd",
   "metadata": {},
   "source": [
    "### Data Preprocessing"
   ]
  },
  {
   "cell_type": "code",
   "execution_count": 14,
   "id": "8970eb27",
   "metadata": {},
   "outputs": [
    {
     "name": "stdout",
     "output_type": "stream",
     "text": [
      "The shape of the data before preprocessing  (10155, 31)\n"
     ]
    }
   ],
   "source": [
    "print('The shape of the data before preprocessing ', data.shape)"
   ]
  },
  {
   "cell_type": "code",
   "execution_count": 15,
   "id": "3488592c",
   "metadata": {},
   "outputs": [],
   "source": [
    "#Preprocess - 1: Remove the post_code, post_area and Ref_no column\n",
    "\n",
    "data.drop(['REF_NO','post_code','post_area'],axis=1,inplace=True)"
   ]
  },
  {
   "cell_type": "code",
   "execution_count": 16,
   "id": "cf18e3d8",
   "metadata": {},
   "outputs": [
    {
     "name": "stdout",
     "output_type": "stream",
     "text": [
      "84\n"
     ]
    }
   ],
   "source": [
    "##### Preprocess - 2: Analyze the year_last_moved column ######\n",
    "\n",
    "print(np.sum(data['year_last_moved']==0))\n",
    "\n",
    "##### Insight #####\n",
    "\n",
    "# Although there aren't many 0's, the column seems to be a bit irrelevant in predicting customers with high transaction\n",
    "# potential.Hence this coulumn would also be dropped\n",
    "\n",
    "data.drop(['year_last_moved'],axis=1,inplace=True)"
   ]
  },
  {
   "cell_type": "code",
   "execution_count": 17,
   "id": "c4041932",
   "metadata": {},
   "outputs": [],
   "source": [
    "##### Preprocess - 3: Caping the numeric columns to 99th percentile\n",
    "\n",
    "def capping(Series,quantile_val):\n",
    "    cap_value=Series.quantile(quantile_val)\n",
    "    Series[Series>cap_value]=cap_value\n",
    "    return Series,cap_value"
   ]
  },
  {
   "cell_type": "code",
   "execution_count": 18,
   "id": "d3e50cf3",
   "metadata": {},
   "outputs": [
    {
     "name": "stdout",
     "output_type": "stream",
     "text": [
      "Average Credit Card Transaction: Capping: 277.04189999999977\n",
      "Balance Transfer: Capping: 403.1564999999984\n",
      "Term Deposit: Capping: 321.1207999999996\n",
      "Life Insurance: Capping: 505.8719999999998\n",
      "Medical Insurance: Capping: 177.44259999999974\n",
      "Average A/C Balance: Capping: 247.37879999999976\n",
      "Personal Loan: Capping: 409.09669999999767\n",
      "Investment in Mutual Fund: Capping: 336.0714999999982\n",
      "Investment Tax Saving Bond: Capping: 68.20589999999986\n",
      "Home Loan: Capping: 54.0886999999997\n",
      "Online Purchase Amount: Capping: 465.6838999999965\n",
      "Investment in Commudity: Capping: 219.34139999999994\n",
      "Investment in Equity: Capping: 166.57359999999986\n",
      "Investment in Derivative: Capping: 199.18799999999976\n",
      "Portfolio Balance: Capping: 545.2546999999988\n"
     ]
    },
    {
     "name": "stderr",
     "output_type": "stream",
     "text": [
      "C:\\Users\\ndulani\\AppData\\Local\\Temp/ipykernel_9644/1902283864.py:5: SettingWithCopyWarning: \n",
      "A value is trying to be set on a copy of a slice from a DataFrame\n",
      "\n",
      "See the caveats in the documentation: https://pandas.pydata.org/pandas-docs/stable/user_guide/indexing.html#returning-a-view-versus-a-copy\n",
      "  Series[Series>cap_value]=cap_value\n"
     ]
    }
   ],
   "source": [
    "for col in column_names:\n",
    "    if col not in ['Revenue Grid','year_last_moved','REF_NO']:\n",
    "        a,b=capping(data[col],0.995)\n",
    "        print(f'{col}: Capping: {b}')"
   ]
  },
  {
   "cell_type": "code",
   "execution_count": 19,
   "id": "47d119f6",
   "metadata": {},
   "outputs": [],
   "source": [
    "#### Preprocess-4 Dropping outlier row\n",
    "\n",
    "data.drop(250,inplace=True)"
   ]
  },
  {
   "cell_type": "code",
   "execution_count": 20,
   "id": "44832d9c",
   "metadata": {},
   "outputs": [
    {
     "data": {
      "text/html": [
       "<div>\n",
       "<style scoped>\n",
       "    .dataframe tbody tr th:only-of-type {\n",
       "        vertical-align: middle;\n",
       "    }\n",
       "\n",
       "    .dataframe tbody tr th {\n",
       "        vertical-align: top;\n",
       "    }\n",
       "\n",
       "    .dataframe thead th {\n",
       "        text-align: right;\n",
       "    }\n",
       "</style>\n",
       "<table border=\"1\" class=\"dataframe\">\n",
       "  <thead>\n",
       "    <tr style=\"text-align: right;\">\n",
       "      <th></th>\n",
       "      <th>Average Credit Card Transaction</th>\n",
       "      <th>Balance Transfer</th>\n",
       "      <th>Term Deposit</th>\n",
       "      <th>Life Insurance</th>\n",
       "      <th>Medical Insurance</th>\n",
       "      <th>Average A/C Balance</th>\n",
       "      <th>Personal Loan</th>\n",
       "      <th>Investment in Mutual Fund</th>\n",
       "      <th>Investment Tax Saving Bond</th>\n",
       "      <th>Home Loan</th>\n",
       "      <th>Online Purchase Amount</th>\n",
       "      <th>Revenue Grid</th>\n",
       "      <th>Investment in Commudity</th>\n",
       "      <th>Investment in Equity</th>\n",
       "      <th>Investment in Derivative</th>\n",
       "      <th>Portfolio Balance</th>\n",
       "    </tr>\n",
       "  </thead>\n",
       "  <tbody>\n",
       "    <tr>\n",
       "      <th>count</th>\n",
       "      <td>10154.000000</td>\n",
       "      <td>10154.000000</td>\n",
       "      <td>10154.000000</td>\n",
       "      <td>10154.000000</td>\n",
       "      <td>10154.000000</td>\n",
       "      <td>10154.000000</td>\n",
       "      <td>10154.000000</td>\n",
       "      <td>10154.000000</td>\n",
       "      <td>10154.000000</td>\n",
       "      <td>10154.000000</td>\n",
       "      <td>10154.000000</td>\n",
       "      <td>10154.000000</td>\n",
       "      <td>10154.000000</td>\n",
       "      <td>10154.000000</td>\n",
       "      <td>10154.000000</td>\n",
       "      <td>10154.000000</td>\n",
       "    </tr>\n",
       "    <tr>\n",
       "      <th>mean</th>\n",
       "      <td>23.042085</td>\n",
       "      <td>45.674234</td>\n",
       "      <td>27.021307</td>\n",
       "      <td>65.370251</td>\n",
       "      <td>18.908738</td>\n",
       "      <td>31.726937</td>\n",
       "      <td>24.441704</td>\n",
       "      <td>41.577281</td>\n",
       "      <td>6.008767</td>\n",
       "      <td>4.379844</td>\n",
       "      <td>17.049523</td>\n",
       "      <td>1.893047</td>\n",
       "      <td>36.183206</td>\n",
       "      <td>21.162010</td>\n",
       "      <td>31.519148</td>\n",
       "      <td>89.336002</td>\n",
       "    </tr>\n",
       "    <tr>\n",
       "      <th>std</th>\n",
       "      <td>48.071901</td>\n",
       "      <td>70.025101</td>\n",
       "      <td>49.766444</td>\n",
       "      <td>87.601509</td>\n",
       "      <td>30.801414</td>\n",
       "      <td>43.194477</td>\n",
       "      <td>57.606266</td>\n",
       "      <td>55.281344</td>\n",
       "      <td>12.159193</td>\n",
       "      <td>9.221872</td>\n",
       "      <td>54.124517</td>\n",
       "      <td>0.309069</td>\n",
       "      <td>39.025411</td>\n",
       "      <td>25.529092</td>\n",
       "      <td>33.002452</td>\n",
       "      <td>94.445107</td>\n",
       "    </tr>\n",
       "    <tr>\n",
       "      <th>min</th>\n",
       "      <td>0.000000</td>\n",
       "      <td>0.000000</td>\n",
       "      <td>0.000000</td>\n",
       "      <td>0.000000</td>\n",
       "      <td>0.000000</td>\n",
       "      <td>0.000000</td>\n",
       "      <td>0.000000</td>\n",
       "      <td>0.000000</td>\n",
       "      <td>0.000000</td>\n",
       "      <td>0.000000</td>\n",
       "      <td>0.000000</td>\n",
       "      <td>1.000000</td>\n",
       "      <td>0.000000</td>\n",
       "      <td>0.000000</td>\n",
       "      <td>0.000000</td>\n",
       "      <td>-78.430000</td>\n",
       "    </tr>\n",
       "    <tr>\n",
       "      <th>25%</th>\n",
       "      <td>0.000000</td>\n",
       "      <td>0.000000</td>\n",
       "      <td>0.000000</td>\n",
       "      <td>0.000000</td>\n",
       "      <td>0.000000</td>\n",
       "      <td>0.000000</td>\n",
       "      <td>0.000000</td>\n",
       "      <td>0.000000</td>\n",
       "      <td>0.000000</td>\n",
       "      <td>0.000000</td>\n",
       "      <td>0.000000</td>\n",
       "      <td>2.000000</td>\n",
       "      <td>8.215000</td>\n",
       "      <td>4.670000</td>\n",
       "      <td>8.740000</td>\n",
       "      <td>26.602500</td>\n",
       "    </tr>\n",
       "    <tr>\n",
       "      <th>50%</th>\n",
       "      <td>0.000000</td>\n",
       "      <td>17.960000</td>\n",
       "      <td>0.000000</td>\n",
       "      <td>31.980000</td>\n",
       "      <td>0.510000</td>\n",
       "      <td>14.990000</td>\n",
       "      <td>0.000000</td>\n",
       "      <td>23.480000</td>\n",
       "      <td>0.000000</td>\n",
       "      <td>0.000000</td>\n",
       "      <td>0.000000</td>\n",
       "      <td>2.000000</td>\n",
       "      <td>23.940000</td>\n",
       "      <td>12.980000</td>\n",
       "      <td>21.335000</td>\n",
       "      <td>66.175000</td>\n",
       "    </tr>\n",
       "    <tr>\n",
       "      <th>75%</th>\n",
       "      <td>23.980000</td>\n",
       "      <td>65.240000</td>\n",
       "      <td>34.987500</td>\n",
       "      <td>94.380000</td>\n",
       "      <td>27.470000</td>\n",
       "      <td>46.477500</td>\n",
       "      <td>21.480000</td>\n",
       "      <td>59.480000</td>\n",
       "      <td>5.970000</td>\n",
       "      <td>4.490000</td>\n",
       "      <td>7.980000</td>\n",
       "      <td>2.000000</td>\n",
       "      <td>50.787500</td>\n",
       "      <td>28.300000</td>\n",
       "      <td>42.980000</td>\n",
       "      <td>125.917500</td>\n",
       "    </tr>\n",
       "    <tr>\n",
       "      <th>max</th>\n",
       "      <td>277.041900</td>\n",
       "      <td>403.156500</td>\n",
       "      <td>321.120800</td>\n",
       "      <td>505.872000</td>\n",
       "      <td>177.442600</td>\n",
       "      <td>247.378800</td>\n",
       "      <td>409.096700</td>\n",
       "      <td>336.071500</td>\n",
       "      <td>68.205900</td>\n",
       "      <td>54.088700</td>\n",
       "      <td>465.683900</td>\n",
       "      <td>2.000000</td>\n",
       "      <td>219.341400</td>\n",
       "      <td>166.573600</td>\n",
       "      <td>199.188000</td>\n",
       "      <td>545.254700</td>\n",
       "    </tr>\n",
       "  </tbody>\n",
       "</table>\n",
       "</div>"
      ],
      "text/plain": [
       "       Average Credit Card Transaction  Balance Transfer  Term Deposit  \\\n",
       "count                     10154.000000      10154.000000  10154.000000   \n",
       "mean                         23.042085         45.674234     27.021307   \n",
       "std                          48.071901         70.025101     49.766444   \n",
       "min                           0.000000          0.000000      0.000000   \n",
       "25%                           0.000000          0.000000      0.000000   \n",
       "50%                           0.000000         17.960000      0.000000   \n",
       "75%                          23.980000         65.240000     34.987500   \n",
       "max                         277.041900        403.156500    321.120800   \n",
       "\n",
       "       Life Insurance  Medical Insurance  Average A/C Balance  Personal Loan  \\\n",
       "count    10154.000000       10154.000000         10154.000000   10154.000000   \n",
       "mean        65.370251          18.908738            31.726937      24.441704   \n",
       "std         87.601509          30.801414            43.194477      57.606266   \n",
       "min          0.000000           0.000000             0.000000       0.000000   \n",
       "25%          0.000000           0.000000             0.000000       0.000000   \n",
       "50%         31.980000           0.510000            14.990000       0.000000   \n",
       "75%         94.380000          27.470000            46.477500      21.480000   \n",
       "max        505.872000         177.442600           247.378800     409.096700   \n",
       "\n",
       "       Investment in Mutual Fund  Investment Tax Saving Bond     Home Loan  \\\n",
       "count               10154.000000                10154.000000  10154.000000   \n",
       "mean                   41.577281                    6.008767      4.379844   \n",
       "std                    55.281344                   12.159193      9.221872   \n",
       "min                     0.000000                    0.000000      0.000000   \n",
       "25%                     0.000000                    0.000000      0.000000   \n",
       "50%                    23.480000                    0.000000      0.000000   \n",
       "75%                    59.480000                    5.970000      4.490000   \n",
       "max                   336.071500                   68.205900     54.088700   \n",
       "\n",
       "       Online Purchase Amount  Revenue Grid  Investment in Commudity  \\\n",
       "count            10154.000000  10154.000000             10154.000000   \n",
       "mean                17.049523      1.893047                36.183206   \n",
       "std                 54.124517      0.309069                39.025411   \n",
       "min                  0.000000      1.000000                 0.000000   \n",
       "25%                  0.000000      2.000000                 8.215000   \n",
       "50%                  0.000000      2.000000                23.940000   \n",
       "75%                  7.980000      2.000000                50.787500   \n",
       "max                465.683900      2.000000               219.341400   \n",
       "\n",
       "       Investment in Equity  Investment in Derivative  Portfolio Balance  \n",
       "count          10154.000000              10154.000000       10154.000000  \n",
       "mean              21.162010                 31.519148          89.336002  \n",
       "std               25.529092                 33.002452          94.445107  \n",
       "min                0.000000                  0.000000         -78.430000  \n",
       "25%                4.670000                  8.740000          26.602500  \n",
       "50%               12.980000                 21.335000          66.175000  \n",
       "75%               28.300000                 42.980000         125.917500  \n",
       "max              166.573600                199.188000         545.254700  "
      ]
     },
     "execution_count": 20,
     "metadata": {},
     "output_type": "execute_result"
    }
   ],
   "source": [
    "# Finding numeric cols\n",
    "numeric_cols = data.select_dtypes(include = np.number) ### find the numeric columns\n",
    "column_names = list(numeric_cols.columns)\n",
    "data[column_names].describe()"
   ]
  },
  {
   "cell_type": "code",
   "execution_count": 21,
   "id": "5eee0af6",
   "metadata": {},
   "outputs": [],
   "source": [
    "#### Preprocess-5 Scaling the columns\n",
    "\n",
    "from sklearn.preprocessing import StandardScaler\n",
    "column_names.remove('Revenue Grid')\n",
    "\n",
    "scaler=StandardScaler()               ### instance of this object\n",
    "scaler.fit(data[column_names])        ### it will compute mean and standard deviation of every column\n",
    "data[column_names]=scaler.transform(data[column_names])   #### apply the formula (x-mean)/s.d"
   ]
  },
  {
   "cell_type": "code",
   "execution_count": 22,
   "id": "0bce8daf",
   "metadata": {},
   "outputs": [
    {
     "data": {
      "text/html": [
       "<div>\n",
       "<style scoped>\n",
       "    .dataframe tbody tr th:only-of-type {\n",
       "        vertical-align: middle;\n",
       "    }\n",
       "\n",
       "    .dataframe tbody tr th {\n",
       "        vertical-align: top;\n",
       "    }\n",
       "\n",
       "    .dataframe thead th {\n",
       "        text-align: right;\n",
       "    }\n",
       "</style>\n",
       "<table border=\"1\" class=\"dataframe\">\n",
       "  <thead>\n",
       "    <tr style=\"text-align: right;\">\n",
       "      <th></th>\n",
       "      <th>Average Credit Card Transaction</th>\n",
       "      <th>Balance Transfer</th>\n",
       "      <th>Term Deposit</th>\n",
       "      <th>Life Insurance</th>\n",
       "      <th>Medical Insurance</th>\n",
       "      <th>Average A/C Balance</th>\n",
       "      <th>Personal Loan</th>\n",
       "      <th>Investment in Mutual Fund</th>\n",
       "      <th>Investment Tax Saving Bond</th>\n",
       "      <th>Home Loan</th>\n",
       "      <th>Online Purchase Amount</th>\n",
       "      <th>Investment in Commudity</th>\n",
       "      <th>Investment in Equity</th>\n",
       "      <th>Investment in Derivative</th>\n",
       "      <th>Portfolio Balance</th>\n",
       "    </tr>\n",
       "  </thead>\n",
       "  <tbody>\n",
       "    <tr>\n",
       "      <th>count</th>\n",
       "      <td>1.015400e+04</td>\n",
       "      <td>1.015400e+04</td>\n",
       "      <td>1.015400e+04</td>\n",
       "      <td>1.015400e+04</td>\n",
       "      <td>1.015400e+04</td>\n",
       "      <td>1.015400e+04</td>\n",
       "      <td>1.015400e+04</td>\n",
       "      <td>1.015400e+04</td>\n",
       "      <td>1.015400e+04</td>\n",
       "      <td>1.015400e+04</td>\n",
       "      <td>1.015400e+04</td>\n",
       "      <td>1.015400e+04</td>\n",
       "      <td>1.015400e+04</td>\n",
       "      <td>1.015400e+04</td>\n",
       "      <td>1.015400e+04</td>\n",
       "    </tr>\n",
       "    <tr>\n",
       "      <th>mean</th>\n",
       "      <td>1.572397e-16</td>\n",
       "      <td>-2.821562e-16</td>\n",
       "      <td>-4.471288e-16</td>\n",
       "      <td>-4.980150e-16</td>\n",
       "      <td>5.893399e-16</td>\n",
       "      <td>-7.292877e-17</td>\n",
       "      <td>-1.511495e-16</td>\n",
       "      <td>5.178585e-16</td>\n",
       "      <td>-1.317747e-16</td>\n",
       "      <td>-9.352377e-16</td>\n",
       "      <td>1.563431e-16</td>\n",
       "      <td>1.530739e-18</td>\n",
       "      <td>5.540181e-17</td>\n",
       "      <td>-2.269867e-17</td>\n",
       "      <td>-2.466676e-17</td>\n",
       "    </tr>\n",
       "    <tr>\n",
       "      <th>std</th>\n",
       "      <td>1.000049e+00</td>\n",
       "      <td>1.000049e+00</td>\n",
       "      <td>1.000049e+00</td>\n",
       "      <td>1.000049e+00</td>\n",
       "      <td>1.000049e+00</td>\n",
       "      <td>1.000049e+00</td>\n",
       "      <td>1.000049e+00</td>\n",
       "      <td>1.000049e+00</td>\n",
       "      <td>1.000049e+00</td>\n",
       "      <td>1.000049e+00</td>\n",
       "      <td>1.000049e+00</td>\n",
       "      <td>1.000049e+00</td>\n",
       "      <td>1.000049e+00</td>\n",
       "      <td>1.000049e+00</td>\n",
       "      <td>1.000049e+00</td>\n",
       "    </tr>\n",
       "    <tr>\n",
       "      <th>min</th>\n",
       "      <td>-4.793490e-01</td>\n",
       "      <td>-6.522873e-01</td>\n",
       "      <td>-5.429891e-01</td>\n",
       "      <td>-7.462596e-01</td>\n",
       "      <td>-6.139221e-01</td>\n",
       "      <td>-7.345499e-01</td>\n",
       "      <td>-4.243099e-01</td>\n",
       "      <td>-7.521403e-01</td>\n",
       "      <td>-4.941992e-01</td>\n",
       "      <td>-4.749642e-01</td>\n",
       "      <td>-3.150211e-01</td>\n",
       "      <td>-9.272160e-01</td>\n",
       "      <td>-8.289779e-01</td>\n",
       "      <td>-9.551018e-01</td>\n",
       "      <td>-1.776421e+00</td>\n",
       "    </tr>\n",
       "    <tr>\n",
       "      <th>25%</th>\n",
       "      <td>-4.793490e-01</td>\n",
       "      <td>-6.522873e-01</td>\n",
       "      <td>-5.429891e-01</td>\n",
       "      <td>-7.462596e-01</td>\n",
       "      <td>-6.139221e-01</td>\n",
       "      <td>-7.345499e-01</td>\n",
       "      <td>-4.243099e-01</td>\n",
       "      <td>-7.521403e-01</td>\n",
       "      <td>-4.941992e-01</td>\n",
       "      <td>-4.749642e-01</td>\n",
       "      <td>-3.150211e-01</td>\n",
       "      <td>-7.167018e-01</td>\n",
       "      <td>-6.460403e-01</td>\n",
       "      <td>-6.902599e-01</td>\n",
       "      <td>-6.642651e-01</td>\n",
       "    </tr>\n",
       "    <tr>\n",
       "      <th>50%</th>\n",
       "      <td>-4.793490e-01</td>\n",
       "      <td>-3.957952e-01</td>\n",
       "      <td>-5.429891e-01</td>\n",
       "      <td>-3.811795e-01</td>\n",
       "      <td>-5.973636e-01</td>\n",
       "      <td>-3.874977e-01</td>\n",
       "      <td>-4.243099e-01</td>\n",
       "      <td>-3.273830e-01</td>\n",
       "      <td>-4.941992e-01</td>\n",
       "      <td>-4.749642e-01</td>\n",
       "      <td>-3.150211e-01</td>\n",
       "      <td>-3.137394e-01</td>\n",
       "      <td>-3.205133e-01</td>\n",
       "      <td>-3.086028e-01</td>\n",
       "      <td>-2.452445e-01</td>\n",
       "    </tr>\n",
       "    <tr>\n",
       "      <th>75%</th>\n",
       "      <td>1.951164e-02</td>\n",
       "      <td>2.794245e-01</td>\n",
       "      <td>1.600795e-01</td>\n",
       "      <td>3.311721e-01</td>\n",
       "      <td>2.779640e-01</td>\n",
       "      <td>3.415087e-01</td>\n",
       "      <td>-5.141542e-02</td>\n",
       "      <td>3.238633e-01</td>\n",
       "      <td>-3.188451e-03</td>\n",
       "      <td>1.194569e-02</td>\n",
       "      <td>-1.675760e-01</td>\n",
       "      <td>3.742437e-01</td>\n",
       "      <td>2.796160e-01</td>\n",
       "      <td>3.472898e-01</td>\n",
       "      <td>3.873499e-01</td>\n",
       "    </tr>\n",
       "    <tr>\n",
       "      <th>max</th>\n",
       "      <td>5.284008e+00</td>\n",
       "      <td>5.105310e+00</td>\n",
       "      <td>5.909885e+00</td>\n",
       "      <td>5.028720e+00</td>\n",
       "      <td>5.147220e+00</td>\n",
       "      <td>4.992825e+00</td>\n",
       "      <td>6.677641e+00</td>\n",
       "      <td>5.327452e+00</td>\n",
       "      <td>5.115487e+00</td>\n",
       "      <td>5.390587e+00</td>\n",
       "      <td>8.289339e+00</td>\n",
       "      <td>4.693537e+00</td>\n",
       "      <td>5.696198e+00</td>\n",
       "      <td>5.080747e+00</td>\n",
       "      <td>4.827578e+00</td>\n",
       "    </tr>\n",
       "  </tbody>\n",
       "</table>\n",
       "</div>"
      ],
      "text/plain": [
       "       Average Credit Card Transaction  Balance Transfer  Term Deposit  \\\n",
       "count                     1.015400e+04      1.015400e+04  1.015400e+04   \n",
       "mean                      1.572397e-16     -2.821562e-16 -4.471288e-16   \n",
       "std                       1.000049e+00      1.000049e+00  1.000049e+00   \n",
       "min                      -4.793490e-01     -6.522873e-01 -5.429891e-01   \n",
       "25%                      -4.793490e-01     -6.522873e-01 -5.429891e-01   \n",
       "50%                      -4.793490e-01     -3.957952e-01 -5.429891e-01   \n",
       "75%                       1.951164e-02      2.794245e-01  1.600795e-01   \n",
       "max                       5.284008e+00      5.105310e+00  5.909885e+00   \n",
       "\n",
       "       Life Insurance  Medical Insurance  Average A/C Balance  Personal Loan  \\\n",
       "count    1.015400e+04       1.015400e+04         1.015400e+04   1.015400e+04   \n",
       "mean    -4.980150e-16       5.893399e-16        -7.292877e-17  -1.511495e-16   \n",
       "std      1.000049e+00       1.000049e+00         1.000049e+00   1.000049e+00   \n",
       "min     -7.462596e-01      -6.139221e-01        -7.345499e-01  -4.243099e-01   \n",
       "25%     -7.462596e-01      -6.139221e-01        -7.345499e-01  -4.243099e-01   \n",
       "50%     -3.811795e-01      -5.973636e-01        -3.874977e-01  -4.243099e-01   \n",
       "75%      3.311721e-01       2.779640e-01         3.415087e-01  -5.141542e-02   \n",
       "max      5.028720e+00       5.147220e+00         4.992825e+00   6.677641e+00   \n",
       "\n",
       "       Investment in Mutual Fund  Investment Tax Saving Bond     Home Loan  \\\n",
       "count               1.015400e+04                1.015400e+04  1.015400e+04   \n",
       "mean                5.178585e-16               -1.317747e-16 -9.352377e-16   \n",
       "std                 1.000049e+00                1.000049e+00  1.000049e+00   \n",
       "min                -7.521403e-01               -4.941992e-01 -4.749642e-01   \n",
       "25%                -7.521403e-01               -4.941992e-01 -4.749642e-01   \n",
       "50%                -3.273830e-01               -4.941992e-01 -4.749642e-01   \n",
       "75%                 3.238633e-01               -3.188451e-03  1.194569e-02   \n",
       "max                 5.327452e+00                5.115487e+00  5.390587e+00   \n",
       "\n",
       "       Online Purchase Amount  Investment in Commudity  Investment in Equity  \\\n",
       "count            1.015400e+04             1.015400e+04          1.015400e+04   \n",
       "mean             1.563431e-16             1.530739e-18          5.540181e-17   \n",
       "std              1.000049e+00             1.000049e+00          1.000049e+00   \n",
       "min             -3.150211e-01            -9.272160e-01         -8.289779e-01   \n",
       "25%             -3.150211e-01            -7.167018e-01         -6.460403e-01   \n",
       "50%             -3.150211e-01            -3.137394e-01         -3.205133e-01   \n",
       "75%             -1.675760e-01             3.742437e-01          2.796160e-01   \n",
       "max              8.289339e+00             4.693537e+00          5.696198e+00   \n",
       "\n",
       "       Investment in Derivative  Portfolio Balance  \n",
       "count              1.015400e+04       1.015400e+04  \n",
       "mean              -2.269867e-17      -2.466676e-17  \n",
       "std                1.000049e+00       1.000049e+00  \n",
       "min               -9.551018e-01      -1.776421e+00  \n",
       "25%               -6.902599e-01      -6.642651e-01  \n",
       "50%               -3.086028e-01      -2.452445e-01  \n",
       "75%                3.472898e-01       3.873499e-01  \n",
       "max                5.080747e+00       4.827578e+00  "
      ]
     },
     "execution_count": 22,
     "metadata": {},
     "output_type": "execute_result"
    }
   ],
   "source": [
    "data[column_names].describe()"
   ]
  },
  {
   "cell_type": "code",
   "execution_count": 23,
   "id": "fdb171ff",
   "metadata": {},
   "outputs": [
    {
     "data": {
      "text/plain": [
       "children                            object\n",
       "age_band                            object\n",
       "status                              object\n",
       "occupation                          object\n",
       "occupation_partner                  object\n",
       "home_status                         object\n",
       "family_income                       object\n",
       "self_employed                       object\n",
       "self_employed_partner               object\n",
       "Average Credit Card Transaction    float64\n",
       "Balance Transfer                   float64\n",
       "Term Deposit                       float64\n",
       "Life Insurance                     float64\n",
       "Medical Insurance                  float64\n",
       "Average A/C Balance                float64\n",
       "Personal Loan                      float64\n",
       "Investment in Mutual Fund          float64\n",
       "Investment Tax Saving Bond         float64\n",
       "Home Loan                          float64\n",
       "Online Purchase Amount             float64\n",
       "Revenue Grid                         int64\n",
       "gender                              object\n",
       "region                              object\n",
       "Investment in Commudity            float64\n",
       "Investment in Equity               float64\n",
       "Investment in Derivative           float64\n",
       "Portfolio Balance                  float64\n",
       "dtype: object"
      ]
     },
     "execution_count": 23,
     "metadata": {},
     "output_type": "execute_result"
    }
   ],
   "source": [
    "data.dtypes"
   ]
  },
  {
   "cell_type": "markdown",
   "id": "f56c263e",
   "metadata": {},
   "source": [
    "### Preprocessing Categorical columns"
   ]
  },
  {
   "cell_type": "code",
   "execution_count": 24,
   "id": "e9089e88",
   "metadata": {},
   "outputs": [
    {
     "data": {
      "text/plain": [
       "Zero    6208\n",
       "1       1847\n",
       "2       1607\n",
       "3        473\n",
       "4+        19\n",
       "Name: children, dtype: int64"
      ]
     },
     "execution_count": 24,
     "metadata": {},
     "output_type": "execute_result"
    }
   ],
   "source": [
    "# Childern column\n",
    "data['children'].value_counts()"
   ]
  },
  {
   "cell_type": "code",
   "execution_count": 25,
   "id": "c34f249a",
   "metadata": {},
   "outputs": [],
   "source": [
    "#Since the occurences of 4+ children is quite low when compared to rest, we can replace them with 3\n",
    "#Create one hot encoded vectors for the same\n",
    "\n",
    "data.loc[data['children']== '4+','children'] = '3'\n",
    "\n",
    "children_data = pd.get_dummies(data['children'],prefix ='chidren')\n",
    "\n",
    "data=pd.concat([data,children_data],axis=1)\n",
    "\n",
    "data.drop(columns='children',inplace=True)"
   ]
  },
  {
   "cell_type": "code",
   "execution_count": 26,
   "id": "13f0ff4d",
   "metadata": {},
   "outputs": [
    {
     "data": {
      "text/html": [
       "<div>\n",
       "<style scoped>\n",
       "    .dataframe tbody tr th:only-of-type {\n",
       "        vertical-align: middle;\n",
       "    }\n",
       "\n",
       "    .dataframe tbody tr th {\n",
       "        vertical-align: top;\n",
       "    }\n",
       "\n",
       "    .dataframe thead th {\n",
       "        text-align: right;\n",
       "    }\n",
       "</style>\n",
       "<table border=\"1\" class=\"dataframe\">\n",
       "  <thead>\n",
       "    <tr style=\"text-align: right;\">\n",
       "      <th></th>\n",
       "      <th>age_band</th>\n",
       "      <th>status</th>\n",
       "      <th>occupation</th>\n",
       "      <th>occupation_partner</th>\n",
       "      <th>home_status</th>\n",
       "      <th>family_income</th>\n",
       "      <th>self_employed</th>\n",
       "      <th>self_employed_partner</th>\n",
       "      <th>Average Credit Card Transaction</th>\n",
       "      <th>Balance Transfer</th>\n",
       "      <th>...</th>\n",
       "      <th>gender</th>\n",
       "      <th>region</th>\n",
       "      <th>Investment in Commudity</th>\n",
       "      <th>Investment in Equity</th>\n",
       "      <th>Investment in Derivative</th>\n",
       "      <th>Portfolio Balance</th>\n",
       "      <th>chidren_1</th>\n",
       "      <th>chidren_2</th>\n",
       "      <th>chidren_3</th>\n",
       "      <th>chidren_Zero</th>\n",
       "    </tr>\n",
       "  </thead>\n",
       "  <tbody>\n",
       "    <tr>\n",
       "      <th>0</th>\n",
       "      <td>51-55</td>\n",
       "      <td>Partner</td>\n",
       "      <td>Manual Worker</td>\n",
       "      <td>Secretarial/Admin</td>\n",
       "      <td>Own Home</td>\n",
       "      <td>&lt;17,500, &gt;=15,000</td>\n",
       "      <td>No</td>\n",
       "      <td>No</td>\n",
       "      <td>2.608678</td>\n",
       "      <td>1.389224</td>\n",
       "      <td>...</td>\n",
       "      <td>Female</td>\n",
       "      <td>Wales</td>\n",
       "      <td>0.986247</td>\n",
       "      <td>-0.098011</td>\n",
       "      <td>0.024268</td>\n",
       "      <td>0.000995</td>\n",
       "      <td>0</td>\n",
       "      <td>0</td>\n",
       "      <td>0</td>\n",
       "      <td>1</td>\n",
       "    </tr>\n",
       "    <tr>\n",
       "      <th>1</th>\n",
       "      <td>55-60</td>\n",
       "      <td>Single/Never Married</td>\n",
       "      <td>Retired</td>\n",
       "      <td>Retired</td>\n",
       "      <td>Own Home</td>\n",
       "      <td>&lt;27,500, &gt;=25,000</td>\n",
       "      <td>No</td>\n",
       "      <td>No</td>\n",
       "      <td>-0.479349</td>\n",
       "      <td>0.418524</td>\n",
       "      <td>...</td>\n",
       "      <td>Female</td>\n",
       "      <td>North West</td>\n",
       "      <td>-0.409835</td>\n",
       "      <td>-0.828978</td>\n",
       "      <td>-0.823893</td>\n",
       "      <td>-0.704740</td>\n",
       "      <td>0</td>\n",
       "      <td>0</td>\n",
       "      <td>0</td>\n",
       "      <td>1</td>\n",
       "    </tr>\n",
       "    <tr>\n",
       "      <th>2</th>\n",
       "      <td>26-30</td>\n",
       "      <td>Single/Never Married</td>\n",
       "      <td>Professional</td>\n",
       "      <td>Other</td>\n",
       "      <td>Own Home</td>\n",
       "      <td>&lt;30,000, &gt;=27,500</td>\n",
       "      <td>Yes</td>\n",
       "      <td>No</td>\n",
       "      <td>-0.479349</td>\n",
       "      <td>1.724692</td>\n",
       "      <td>...</td>\n",
       "      <td>Male</td>\n",
       "      <td>North</td>\n",
       "      <td>1.585629</td>\n",
       "      <td>0.388125</td>\n",
       "      <td>1.498170</td>\n",
       "      <td>0.872973</td>\n",
       "      <td>0</td>\n",
       "      <td>0</td>\n",
       "      <td>0</td>\n",
       "      <td>1</td>\n",
       "    </tr>\n",
       "    <tr>\n",
       "      <th>3</th>\n",
       "      <td>18-21</td>\n",
       "      <td>Single/Never Married</td>\n",
       "      <td>Professional</td>\n",
       "      <td>Manual Worker</td>\n",
       "      <td>Own Home</td>\n",
       "      <td>&lt;15,000, &gt;=12,500</td>\n",
       "      <td>No</td>\n",
       "      <td>No</td>\n",
       "      <td>-0.479349</td>\n",
       "      <td>-0.652287</td>\n",
       "      <td>...</td>\n",
       "      <td>Female</td>\n",
       "      <td>West Midlands</td>\n",
       "      <td>-0.822151</td>\n",
       "      <td>-0.274681</td>\n",
       "      <td>-0.422691</td>\n",
       "      <td>-1.387499</td>\n",
       "      <td>0</td>\n",
       "      <td>0</td>\n",
       "      <td>0</td>\n",
       "      <td>1</td>\n",
       "    </tr>\n",
       "    <tr>\n",
       "      <th>4</th>\n",
       "      <td>45-50</td>\n",
       "      <td>Partner</td>\n",
       "      <td>Business Manager</td>\n",
       "      <td>Unknown</td>\n",
       "      <td>Own Home</td>\n",
       "      <td>&lt;30,000, &gt;=27,500</td>\n",
       "      <td>No</td>\n",
       "      <td>No</td>\n",
       "      <td>1.048646</td>\n",
       "      <td>0.175457</td>\n",
       "      <td>...</td>\n",
       "      <td>Female</td>\n",
       "      <td>Scotland</td>\n",
       "      <td>0.870675</td>\n",
       "      <td>1.359222</td>\n",
       "      <td>1.482413</td>\n",
       "      <td>1.542602</td>\n",
       "      <td>0</td>\n",
       "      <td>0</td>\n",
       "      <td>0</td>\n",
       "      <td>1</td>\n",
       "    </tr>\n",
       "  </tbody>\n",
       "</table>\n",
       "<p>5 rows × 30 columns</p>\n",
       "</div>"
      ],
      "text/plain": [
       "  age_band                status        occupation occupation_partner  \\\n",
       "0    51-55               Partner     Manual Worker  Secretarial/Admin   \n",
       "1    55-60  Single/Never Married           Retired            Retired   \n",
       "2    26-30  Single/Never Married      Professional              Other   \n",
       "3    18-21  Single/Never Married      Professional      Manual Worker   \n",
       "4    45-50               Partner  Business Manager            Unknown   \n",
       "\n",
       "  home_status      family_income self_employed self_employed_partner  \\\n",
       "0    Own Home  <17,500, >=15,000            No                    No   \n",
       "1    Own Home  <27,500, >=25,000            No                    No   \n",
       "2    Own Home  <30,000, >=27,500           Yes                    No   \n",
       "3    Own Home  <15,000, >=12,500            No                    No   \n",
       "4    Own Home  <30,000, >=27,500            No                    No   \n",
       "\n",
       "   Average Credit Card Transaction  Balance Transfer  ...  gender  \\\n",
       "0                         2.608678          1.389224  ...  Female   \n",
       "1                        -0.479349          0.418524  ...  Female   \n",
       "2                        -0.479349          1.724692  ...    Male   \n",
       "3                        -0.479349         -0.652287  ...  Female   \n",
       "4                         1.048646          0.175457  ...  Female   \n",
       "\n",
       "          region  Investment in Commudity  Investment in Equity  \\\n",
       "0          Wales                 0.986247             -0.098011   \n",
       "1     North West                -0.409835             -0.828978   \n",
       "2          North                 1.585629              0.388125   \n",
       "3  West Midlands                -0.822151             -0.274681   \n",
       "4       Scotland                 0.870675              1.359222   \n",
       "\n",
       "   Investment in Derivative  Portfolio Balance  chidren_1  chidren_2  \\\n",
       "0                  0.024268           0.000995          0          0   \n",
       "1                 -0.823893          -0.704740          0          0   \n",
       "2                  1.498170           0.872973          0          0   \n",
       "3                 -0.422691          -1.387499          0          0   \n",
       "4                  1.482413           1.542602          0          0   \n",
       "\n",
       "   chidren_3  chidren_Zero  \n",
       "0          0             1  \n",
       "1          0             1  \n",
       "2          0             1  \n",
       "3          0             1  \n",
       "4          0             1  \n",
       "\n",
       "[5 rows x 30 columns]"
      ]
     },
     "execution_count": 26,
     "metadata": {},
     "output_type": "execute_result"
    }
   ],
   "source": [
    "data.head()"
   ]
  },
  {
   "cell_type": "code",
   "execution_count": 27,
   "id": "2c02f391",
   "metadata": {},
   "outputs": [
    {
     "data": {
      "text/plain": [
       "45-50      1359\n",
       "36-40      1134\n",
       "41-45      1111\n",
       "31-35      1061\n",
       "51-55      1052\n",
       "55-60      1047\n",
       "26-30       927\n",
       "61-65       881\n",
       "65-70       598\n",
       "22-25       456\n",
       "71+         410\n",
       "18-21        63\n",
       "Unknown      55\n",
       "Name: age_band, dtype: int64"
      ]
     },
     "execution_count": 27,
     "metadata": {},
     "output_type": "execute_result"
    }
   ],
   "source": [
    "# Age band columns\n",
    "data['age_band'].value_counts()"
   ]
  },
  {
   "cell_type": "code",
   "execution_count": 28,
   "id": "96341caf",
   "metadata": {},
   "outputs": [],
   "source": [
    "#The mean age of the band could be taken and this column could be converted into a numeric column, however it so can\n",
    "#happen that the band actually matters rather than the actual age, hence we create dummies\n",
    "\n",
    "age_band_dummies=pd.get_dummies(data['age_band'],prefix=\"Age_band\")\n",
    "\n",
    "data=pd.concat([data,age_band_dummies],axis=1)\n",
    "\n",
    "data.drop(columns='age_band',inplace=True)"
   ]
  },
  {
   "cell_type": "code",
   "execution_count": 29,
   "id": "77147c39",
   "metadata": {},
   "outputs": [
    {
     "data": {
      "text/plain": [
       "status                              object\n",
       "occupation                          object\n",
       "occupation_partner                  object\n",
       "home_status                         object\n",
       "family_income                       object\n",
       "self_employed                       object\n",
       "self_employed_partner               object\n",
       "Average Credit Card Transaction    float64\n",
       "Balance Transfer                   float64\n",
       "Term Deposit                       float64\n",
       "Life Insurance                     float64\n",
       "Medical Insurance                  float64\n",
       "Average A/C Balance                float64\n",
       "Personal Loan                      float64\n",
       "Investment in Mutual Fund          float64\n",
       "Investment Tax Saving Bond         float64\n",
       "Home Loan                          float64\n",
       "Online Purchase Amount             float64\n",
       "Revenue Grid                         int64\n",
       "gender                              object\n",
       "region                              object\n",
       "Investment in Commudity            float64\n",
       "Investment in Equity               float64\n",
       "Investment in Derivative           float64\n",
       "Portfolio Balance                  float64\n",
       "chidren_1                            uint8\n",
       "chidren_2                            uint8\n",
       "chidren_3                            uint8\n",
       "chidren_Zero                         uint8\n",
       "Age_band_18-21                       uint8\n",
       "Age_band_22-25                       uint8\n",
       "Age_band_26-30                       uint8\n",
       "Age_band_31-35                       uint8\n",
       "Age_band_36-40                       uint8\n",
       "Age_band_41-45                       uint8\n",
       "Age_band_45-50                       uint8\n",
       "Age_band_51-55                       uint8\n",
       "Age_band_55-60                       uint8\n",
       "Age_band_61-65                       uint8\n",
       "Age_band_65-70                       uint8\n",
       "Age_band_71+                         uint8\n",
       "Age_band_Unknown                     uint8\n",
       "dtype: object"
      ]
     },
     "execution_count": 29,
     "metadata": {},
     "output_type": "execute_result"
    }
   ],
   "source": [
    "data.dtypes"
   ]
  },
  {
   "cell_type": "code",
   "execution_count": 30,
   "id": "c0b09519",
   "metadata": {},
   "outputs": [
    {
     "data": {
      "text/plain": [
       "Partner                 7708\n",
       "Single/Never Married    1101\n",
       "Divorced/Separated       679\n",
       "Widowed                  618\n",
       "Unknown                   48\n",
       "Name: status, dtype: int64"
      ]
     },
     "execution_count": 30,
     "metadata": {},
     "output_type": "execute_result"
    }
   ],
   "source": [
    "#Status column\n",
    "data['status'].value_counts()"
   ]
  },
  {
   "cell_type": "code",
   "execution_count": 31,
   "id": "7867198f",
   "metadata": {},
   "outputs": [],
   "source": [
    "data.loc[data['status']=='Unknown','status']='Partner'\n",
    "\n",
    "status_dummies=pd.get_dummies(data['status'],prefix='Status')\n",
    "\n",
    "data=pd.concat([data,status_dummies],axis=1)\n",
    "\n",
    "data.drop(columns='status',inplace=True) #dropping orig column"
   ]
  },
  {
   "cell_type": "code",
   "execution_count": 32,
   "id": "cfdbba9f",
   "metadata": {},
   "outputs": [
    {
     "data": {
      "text/plain": [
       "Professional         2448\n",
       "Retired              2206\n",
       "Secretarial/Admin    1797\n",
       "Housewife            1255\n",
       "Business Manager      732\n",
       "Unknown               567\n",
       "Manual Worker         556\n",
       "Other                 537\n",
       "Student                56\n",
       "Name: occupation, dtype: int64"
      ]
     },
     "execution_count": 32,
     "metadata": {},
     "output_type": "execute_result"
    }
   ],
   "source": [
    "# Occupation column\n",
    "\n",
    "data['occupation'].value_counts()"
   ]
  },
  {
   "cell_type": "code",
   "execution_count": 33,
   "id": "b820dbb1",
   "metadata": {},
   "outputs": [],
   "source": [
    "occ_Dummies=pd.get_dummies(data['occupation'],prefix='Occ_')\n",
    "\n",
    "data=pd.concat([data,occ_Dummies],axis=1)\n",
    "\n",
    "data.drop(columns='occupation',inplace=True) #dropping orig column"
   ]
  },
  {
   "cell_type": "code",
   "execution_count": 34,
   "id": "d5c8e9a2",
   "metadata": {},
   "outputs": [
    {
     "data": {
      "text/plain": [
       "Unknown              2394\n",
       "Professional         2050\n",
       "Retired              1936\n",
       "Manual Worker        1508\n",
       "Business Manager      737\n",
       "Secretarial/Admin     662\n",
       "Housewife             527\n",
       "Other                 324\n",
       "Student                16\n",
       "Name: occupation_partner, dtype: int64"
      ]
     },
     "execution_count": 34,
     "metadata": {},
     "output_type": "execute_result"
    }
   ],
   "source": [
    "# Occupation Partner Column\n",
    "data['occupation_partner'].value_counts()"
   ]
  },
  {
   "cell_type": "code",
   "execution_count": 35,
   "id": "6ba4804e",
   "metadata": {},
   "outputs": [],
   "source": [
    "occ_partner_dummies=pd.get_dummies(data['occupation_partner'],prefix='Occ_partner')\n",
    "\n",
    "data=pd.concat([data,occ_partner_dummies],axis=1)\n",
    "\n",
    "data.drop(columns='occupation_partner',inplace=True) #dropping orig column"
   ]
  },
  {
   "cell_type": "code",
   "execution_count": 36,
   "id": "c1f6ab81",
   "metadata": {},
   "outputs": [
    {
     "data": {
      "text/plain": [
       "Own Home                9412\n",
       "Rent from Council/HA     322\n",
       "Rent Privately           261\n",
       "Live in Parental Hom     109\n",
       "Unclassified              50\n",
       "Name: home_status, dtype: int64"
      ]
     },
     "execution_count": 36,
     "metadata": {},
     "output_type": "execute_result"
    }
   ],
   "source": [
    "# Home Status column\n",
    "\n",
    "data['home_status'].value_counts()"
   ]
  },
  {
   "cell_type": "code",
   "execution_count": 37,
   "id": "db822166",
   "metadata": {},
   "outputs": [],
   "source": [
    "data.loc[data['home_status']=='Unclassified','home_status']='Own Home'\n",
    "\n",
    "home_dummies=pd.get_dummies(data['home_status'],prefix='Home_Status')\n",
    "\n",
    "data=pd.concat([data,home_dummies],axis=1)\n",
    "\n",
    "data.drop(columns='home_status',inplace=True)"
   ]
  },
  {
   "cell_type": "code",
   "execution_count": 38,
   "id": "2cb9b672",
   "metadata": {},
   "outputs": [
    {
     "data": {
      "text/plain": [
       ">=35,000             2516\n",
       "<27,500, >=25,000    1227\n",
       "<30,000, >=27,500     994\n",
       "<25,000, >=22,500     833\n",
       "<20,000, >=17,500     683\n",
       "<12,500, >=10,000     677\n",
       "<17,500, >=15,000     634\n",
       "<15,000, >=12,500     629\n",
       "<22,500, >=20,000     590\n",
       "<10,000, >= 8,000     563\n",
       "< 8,000, >= 4,000     402\n",
       "< 4,000               278\n",
       "Unknown               128\n",
       "Name: family_income, dtype: int64"
      ]
     },
     "execution_count": 38,
     "metadata": {},
     "output_type": "execute_result"
    }
   ],
   "source": [
    "# Family Income column\n",
    "\n",
    "data['family_income'].value_counts()"
   ]
  },
  {
   "cell_type": "code",
   "execution_count": 39,
   "id": "3c81c22a",
   "metadata": {},
   "outputs": [],
   "source": [
    "fam_inc_dummies=pd.get_dummies(data['family_income'],prefix='family_income')\n",
    "\n",
    "data=pd.concat([data,fam_inc_dummies],axis=1)\n",
    "\n",
    "data.drop(columns='family_income',inplace=True)"
   ]
  },
  {
   "cell_type": "code",
   "execution_count": 40,
   "id": "186966c1",
   "metadata": {},
   "outputs": [],
   "source": [
    "#### Analyzing the self employed, self employed partner and gender ####\n",
    "\n",
    "cols=['self_employed','self_employed_partner','gender']\n",
    "for col in cols:\n",
    "    dummies=pd.get_dummies(data[col],prefix=col)\n",
    "    data=pd.concat([data,dummies],axis=1)\n",
    "    data.drop(columns=col,inplace=True)"
   ]
  },
  {
   "cell_type": "code",
   "execution_count": 41,
   "id": "1d4c6f10",
   "metadata": {},
   "outputs": [
    {
     "data": {
      "text/plain": [
       "South East          2100\n",
       "North West          1896\n",
       "Unknown             1080\n",
       "South West           971\n",
       "West Midlands        820\n",
       "Scotland             787\n",
       "East Midlands        771\n",
       "North                570\n",
       "Wales                556\n",
       "East Anglia          423\n",
       "Northern Ireland     159\n",
       "Isle of Man           16\n",
       "Channel Islands        5\n",
       "Name: region, dtype: int64"
      ]
     },
     "execution_count": 41,
     "metadata": {},
     "output_type": "execute_result"
    }
   ],
   "source": [
    "#### Analyzing Region column\n",
    "\n",
    "data['region'].value_counts()"
   ]
  },
  {
   "cell_type": "code",
   "execution_count": 42,
   "id": "500fab33",
   "metadata": {},
   "outputs": [],
   "source": [
    "reg_dummies=pd.get_dummies(data['region'],prefix='Region')\n",
    "\n",
    "data=pd.concat([data,reg_dummies],axis=1)\n",
    "\n",
    "data.drop(columns='region',inplace=True)"
   ]
  },
  {
   "cell_type": "code",
   "execution_count": 43,
   "id": "20034411",
   "metadata": {},
   "outputs": [
    {
     "name": "stdout",
     "output_type": "stream",
     "text": [
      "<class 'pandas.core.frame.DataFrame'>\n",
      "Int64Index: 10154 entries, 0 to 10154\n",
      "Data columns (total 92 columns):\n",
      " #   Column                            Non-Null Count  Dtype  \n",
      "---  ------                            --------------  -----  \n",
      " 0   Average Credit Card Transaction   10154 non-null  float64\n",
      " 1   Balance Transfer                  10154 non-null  float64\n",
      " 2   Term Deposit                      10154 non-null  float64\n",
      " 3   Life Insurance                    10154 non-null  float64\n",
      " 4   Medical Insurance                 10154 non-null  float64\n",
      " 5   Average A/C Balance               10154 non-null  float64\n",
      " 6   Personal Loan                     10154 non-null  float64\n",
      " 7   Investment in Mutual Fund         10154 non-null  float64\n",
      " 8   Investment Tax Saving Bond        10154 non-null  float64\n",
      " 9   Home Loan                         10154 non-null  float64\n",
      " 10  Online Purchase Amount            10154 non-null  float64\n",
      " 11  Revenue Grid                      10154 non-null  int64  \n",
      " 12  Investment in Commudity           10154 non-null  float64\n",
      " 13  Investment in Equity              10154 non-null  float64\n",
      " 14  Investment in Derivative          10154 non-null  float64\n",
      " 15  Portfolio Balance                 10154 non-null  float64\n",
      " 16  chidren_1                         10154 non-null  uint8  \n",
      " 17  chidren_2                         10154 non-null  uint8  \n",
      " 18  chidren_3                         10154 non-null  uint8  \n",
      " 19  chidren_Zero                      10154 non-null  uint8  \n",
      " 20  Age_band_18-21                    10154 non-null  uint8  \n",
      " 21  Age_band_22-25                    10154 non-null  uint8  \n",
      " 22  Age_band_26-30                    10154 non-null  uint8  \n",
      " 23  Age_band_31-35                    10154 non-null  uint8  \n",
      " 24  Age_band_36-40                    10154 non-null  uint8  \n",
      " 25  Age_band_41-45                    10154 non-null  uint8  \n",
      " 26  Age_band_45-50                    10154 non-null  uint8  \n",
      " 27  Age_band_51-55                    10154 non-null  uint8  \n",
      " 28  Age_band_55-60                    10154 non-null  uint8  \n",
      " 29  Age_band_61-65                    10154 non-null  uint8  \n",
      " 30  Age_band_65-70                    10154 non-null  uint8  \n",
      " 31  Age_band_71+                      10154 non-null  uint8  \n",
      " 32  Age_band_Unknown                  10154 non-null  uint8  \n",
      " 33  Status_Divorced/Separated         10154 non-null  uint8  \n",
      " 34  Status_Partner                    10154 non-null  uint8  \n",
      " 35  Status_Single/Never Married       10154 non-null  uint8  \n",
      " 36  Status_Widowed                    10154 non-null  uint8  \n",
      " 37  Occ__Business Manager             10154 non-null  uint8  \n",
      " 38  Occ__Housewife                    10154 non-null  uint8  \n",
      " 39  Occ__Manual Worker                10154 non-null  uint8  \n",
      " 40  Occ__Other                        10154 non-null  uint8  \n",
      " 41  Occ__Professional                 10154 non-null  uint8  \n",
      " 42  Occ__Retired                      10154 non-null  uint8  \n",
      " 43  Occ__Secretarial/Admin            10154 non-null  uint8  \n",
      " 44  Occ__Student                      10154 non-null  uint8  \n",
      " 45  Occ__Unknown                      10154 non-null  uint8  \n",
      " 46  Occ_partner_Business Manager      10154 non-null  uint8  \n",
      " 47  Occ_partner_Housewife             10154 non-null  uint8  \n",
      " 48  Occ_partner_Manual Worker         10154 non-null  uint8  \n",
      " 49  Occ_partner_Other                 10154 non-null  uint8  \n",
      " 50  Occ_partner_Professional          10154 non-null  uint8  \n",
      " 51  Occ_partner_Retired               10154 non-null  uint8  \n",
      " 52  Occ_partner_Secretarial/Admin     10154 non-null  uint8  \n",
      " 53  Occ_partner_Student               10154 non-null  uint8  \n",
      " 54  Occ_partner_Unknown               10154 non-null  uint8  \n",
      " 55  Home_Status_Live in Parental Hom  10154 non-null  uint8  \n",
      " 56  Home_Status_Own Home              10154 non-null  uint8  \n",
      " 57  Home_Status_Rent Privately        10154 non-null  uint8  \n",
      " 58  Home_Status_Rent from Council/HA  10154 non-null  uint8  \n",
      " 59  family_income_< 4,000             10154 non-null  uint8  \n",
      " 60  family_income_< 8,000, >= 4,000   10154 non-null  uint8  \n",
      " 61  family_income_<10,000, >= 8,000   10154 non-null  uint8  \n",
      " 62  family_income_<12,500, >=10,000   10154 non-null  uint8  \n",
      " 63  family_income_<15,000, >=12,500   10154 non-null  uint8  \n",
      " 64  family_income_<17,500, >=15,000   10154 non-null  uint8  \n",
      " 65  family_income_<20,000, >=17,500   10154 non-null  uint8  \n",
      " 66  family_income_<22,500, >=20,000   10154 non-null  uint8  \n",
      " 67  family_income_<25,000, >=22,500   10154 non-null  uint8  \n",
      " 68  family_income_<27,500, >=25,000   10154 non-null  uint8  \n",
      " 69  family_income_<30,000, >=27,500   10154 non-null  uint8  \n",
      " 70  family_income_>=35,000            10154 non-null  uint8  \n",
      " 71  family_income_Unknown             10154 non-null  uint8  \n",
      " 72  self_employed_No                  10154 non-null  uint8  \n",
      " 73  self_employed_Yes                 10154 non-null  uint8  \n",
      " 74  self_employed_partner_No          10154 non-null  uint8  \n",
      " 75  self_employed_partner_Yes         10154 non-null  uint8  \n",
      " 76  gender_Female                     10154 non-null  uint8  \n",
      " 77  gender_Male                       10154 non-null  uint8  \n",
      " 78  gender_Unknown                    10154 non-null  uint8  \n",
      " 79  Region_Channel Islands            10154 non-null  uint8  \n",
      " 80  Region_East Anglia                10154 non-null  uint8  \n",
      " 81  Region_East Midlands              10154 non-null  uint8  \n",
      " 82  Region_Isle of Man                10154 non-null  uint8  \n",
      " 83  Region_North                      10154 non-null  uint8  \n",
      " 84  Region_North West                 10154 non-null  uint8  \n",
      " 85  Region_Northern Ireland           10154 non-null  uint8  \n",
      " 86  Region_Scotland                   10154 non-null  uint8  \n",
      " 87  Region_South East                 10154 non-null  uint8  \n",
      " 88  Region_South West                 10154 non-null  uint8  \n",
      " 89  Region_Unknown                    10154 non-null  uint8  \n",
      " 90  Region_Wales                      10154 non-null  uint8  \n",
      " 91  Region_West Midlands              10154 non-null  uint8  \n",
      "dtypes: float64(15), int64(1), uint8(76)\n",
      "memory usage: 2.1 MB\n"
     ]
    }
   ],
   "source": [
    "data.info()"
   ]
  },
  {
   "cell_type": "code",
   "execution_count": 44,
   "id": "08df003c",
   "metadata": {},
   "outputs": [
    {
     "name": "stdout",
     "output_type": "stream",
     "text": [
      "The shape of data after all preprocessing  (10154, 92)\n"
     ]
    }
   ],
   "source": [
    "print('The shape of data after all preprocessing ',data.shape)"
   ]
  },
  {
   "cell_type": "markdown",
   "id": "1b9343c0",
   "metadata": {},
   "source": [
    "### Modelling`"
   ]
  },
  {
   "cell_type": "code",
   "execution_count": 45,
   "id": "a8a6ee23",
   "metadata": {},
   "outputs": [],
   "source": [
    "from sklearn.linear_model import LogisticRegression\n",
    "from sklearn.metrics import confusion_matrix,f1_score ## model evaluation metrics\n",
    "from sklearn.model_selection import StratifiedShuffleSplit ### datasplitting\n",
    "\n",
    "\n",
    "#### Since its a classification problem, converting target column into 0/1s #####\n",
    "\n",
    "data.loc[data['Revenue Grid']==2,'Revenue Grid'] = 0 ## this replaces all the 2's with 0\n",
    "\n",
    "data.reset_index(drop=True,inplace=True)\n",
    "\n",
    "features_df = data.drop(['Revenue Grid'],axis=1)\n",
    "\n",
    "target_df = data['Revenue Grid']"
   ]
  },
  {
   "cell_type": "code",
   "execution_count": 46,
   "id": "facac4c9",
   "metadata": {},
   "outputs": [
    {
     "data": {
      "text/plain": [
       "((10154, 91), (10154,))"
      ]
     },
     "execution_count": 46,
     "metadata": {},
     "output_type": "execute_result"
    }
   ],
   "source": [
    "features_df.shape, target_df.shape"
   ]
  },
  {
   "cell_type": "code",
   "execution_count": 47,
   "id": "71d2da16",
   "metadata": {},
   "outputs": [],
   "source": [
    "##### Creating a test set to validate the model on ######\n",
    "\n",
    "split_ins = StratifiedShuffleSplit(n_splits=2, test_size=0.2, random_state=2364)\n",
    "\n",
    "splits = split_ins.split(features_df,target_df)\n",
    "\n",
    "for train_index, val_index in splits:\n",
    "    features_train = features_df.iloc[train_index,:]   ## features for the training set\n",
    "    target_train = target_df[train_index]              ## target values for the training set\n",
    "    features_val = features_df.iloc[val_index,:]       ## features for the validation set\n",
    "    target_val = target_df[val_index]                  ## targets for the validation set"
   ]
  },
  {
   "cell_type": "code",
   "execution_count": 48,
   "id": "b773700d",
   "metadata": {},
   "outputs": [],
   "source": [
    "LR_model = LogisticRegression(class_weight = 'balanced',max_iter=400,random_state=1000) "
   ]
  },
  {
   "cell_type": "code",
   "execution_count": 49,
   "id": "fa4a35a8",
   "metadata": {},
   "outputs": [
    {
     "data": {
      "text/plain": [
       "{'Average Credit Card Transaction': 1.2311248936506267,\n",
       " 'Balance Transfer': -0.17486348502055496,\n",
       " 'Term Deposit': -0.8032215320903451,\n",
       " 'Life Insurance': 1.106494696880964,\n",
       " 'Medical Insurance': -0.33171270709643286,\n",
       " 'Average A/C Balance': 0.4652656388538639,\n",
       " 'Personal Loan': -0.964142452079551,\n",
       " 'Investment in Mutual Fund': 0.7772235920149709,\n",
       " 'Investment Tax Saving Bond': 1.3067827544139325,\n",
       " 'Home Loan': -0.5096810326220174,\n",
       " 'Online Purchase Amount': 3.887052128612296,\n",
       " 'Investment in Commudity': -0.3780963836993109,\n",
       " 'Investment in Equity': -2.7008256757331304,\n",
       " 'Investment in Derivative': 0.812099061134708,\n",
       " 'Portfolio Balance': -0.0031458700381577164,\n",
       " 'chidren_1': 0.20746329210399794,\n",
       " 'chidren_2': -0.0694848352752266,\n",
       " 'chidren_3': -0.05950134015676063,\n",
       " 'chidren_Zero': -0.07779010031347806,\n",
       " 'Age_band_18-21': 0.6150660700187367,\n",
       " 'Age_band_22-25': -0.08415924334113133,\n",
       " 'Age_band_26-30': -0.07104088432240142,\n",
       " 'Age_band_31-35': -0.06220562309983554,\n",
       " 'Age_band_36-40': 0.00010379541241866887,\n",
       " 'Age_band_41-45': -0.25279685141233665,\n",
       " 'Age_band_45-50': 0.05810826648146868,\n",
       " 'Age_band_51-55': -0.17146785822621885,\n",
       " 'Age_band_55-60': -0.2430759823845601,\n",
       " 'Age_band_61-65': 0.04979904194683428,\n",
       " 'Age_band_65-70': -0.05628277425689092,\n",
       " 'Age_band_71+': 0.02357619097308282,\n",
       " 'Age_band_Unknown': 0.19506286856937535,\n",
       " 'Status_Divorced/Separated': 0.17757217063298736,\n",
       " 'Status_Partner': 0.08826195465800935,\n",
       " 'Status_Single/Never Married': -0.0539879715051755,\n",
       " 'Status_Widowed': -0.21115913742728476,\n",
       " 'Occ__Business Manager': 0.054481720152677424,\n",
       " 'Occ__Housewife': -0.30243577596433063,\n",
       " 'Occ__Manual Worker': 0.2045654553382927,\n",
       " 'Occ__Other': -0.002078896214854649,\n",
       " 'Occ__Professional': -0.12095022756177673,\n",
       " 'Occ__Retired': -0.050247034812929144,\n",
       " 'Occ__Secretarial/Admin': -0.03910370440102624,\n",
       " 'Occ__Student': 0.0034939491530382163,\n",
       " 'Occ__Unknown': 0.25296153066944965,\n",
       " 'Occ_partner_Business Manager': 0.0819579932762376,\n",
       " 'Occ_partner_Housewife': -0.3018677142652159,\n",
       " 'Occ_partner_Manual Worker': 0.08758243348963206,\n",
       " 'Occ_partner_Other': -0.24442391808006964,\n",
       " 'Occ_partner_Professional': 0.2086738734075962,\n",
       " 'Occ_partner_Retired': -0.17859322025266414,\n",
       " 'Occ_partner_Secretarial/Admin': 0.08204547879433248,\n",
       " 'Occ_partner_Student': 0.23740058720203164,\n",
       " 'Occ_partner_Unknown': 0.02791150278666446,\n",
       " 'Home_Status_Live in Parental Hom': -0.6592294948289323,\n",
       " 'Home_Status_Own Home': 0.25970822947285277,\n",
       " 'Home_Status_Rent Privately': 0.05944910465225128,\n",
       " 'Home_Status_Rent from Council/HA': 0.3407591770623751,\n",
       " 'family_income_< 4,000': -0.17768332581142132,\n",
       " 'family_income_< 8,000, >= 4,000': -0.14640048614659631,\n",
       " 'family_income_<10,000, >= 8,000': 0.15740867517788298,\n",
       " 'family_income_<12,500, >=10,000': 0.09981188967552483,\n",
       " 'family_income_<15,000, >=12,500': 0.07433144728358775,\n",
       " 'family_income_<17,500, >=15,000': 0.004243650711782087,\n",
       " 'family_income_<20,000, >=17,500': 0.14824320251623557,\n",
       " 'family_income_<22,500, >=20,000': 0.035664424325379314,\n",
       " 'family_income_<25,000, >=22,500': 0.09319362578489442,\n",
       " 'family_income_<27,500, >=25,000': 0.047342068968994594,\n",
       " 'family_income_<30,000, >=27,500': 0.36300028093306186,\n",
       " 'family_income_>=35,000': -0.07550410397689734,\n",
       " 'family_income_Unknown': -0.6229643330838891,\n",
       " 'self_employed_No': -0.002289142797721587,\n",
       " 'self_employed_Yes': 0.002976159156257451,\n",
       " 'self_employed_partner_No': -0.15074103709228306,\n",
       " 'self_employed_partner_Yes': 0.1514280534508162,\n",
       " 'gender_Female': -0.7423857156316326,\n",
       " 'gender_Male': -0.2794457488022511,\n",
       " 'gender_Unknown': 1.022518480792422,\n",
       " 'Region_Channel Islands': -0.113422550671354,\n",
       " 'Region_East Anglia': 0.1984179025666333,\n",
       " 'Region_East Midlands': 0.30396035870241095,\n",
       " 'Region_Isle of Man': -0.7669749488452984,\n",
       " 'Region_North': -0.060117228492008595,\n",
       " 'Region_North West': 0.03810868694601128,\n",
       " 'Region_Northern Ireland': 0.051732251997993535,\n",
       " 'Region_Scotland': 0.3697308500328922,\n",
       " 'Region_South East': -0.05797381002920556,\n",
       " 'Region_South West': -0.1086608131203219,\n",
       " 'Region_Unknown': 0.17910932827344328,\n",
       " 'Region_Wales': -0.11769897174973556,\n",
       " 'Region_West Midlands': 0.08447596074707832}"
      ]
     },
     "execution_count": 49,
     "metadata": {},
     "output_type": "execute_result"
    }
   ],
   "source": [
    "### Fitting the model ####\n",
    "\n",
    "LR_model.fit(features_train,target_train)\n",
    "dict(zip(list(features_df.columns),list(LR_model.coef_[0])))"
   ]
  },
  {
   "cell_type": "code",
   "execution_count": 50,
   "id": "6f3aa552",
   "metadata": {},
   "outputs": [],
   "source": [
    "prediction_train = pd.DataFrame(LR_model.predict_proba(features_train))"
   ]
  },
  {
   "cell_type": "code",
   "execution_count": 51,
   "id": "0bb36f0d",
   "metadata": {},
   "outputs": [
    {
     "data": {
      "text/html": [
       "<div>\n",
       "<style scoped>\n",
       "    .dataframe tbody tr th:only-of-type {\n",
       "        vertical-align: middle;\n",
       "    }\n",
       "\n",
       "    .dataframe tbody tr th {\n",
       "        vertical-align: top;\n",
       "    }\n",
       "\n",
       "    .dataframe thead th {\n",
       "        text-align: right;\n",
       "    }\n",
       "</style>\n",
       "<table border=\"1\" class=\"dataframe\">\n",
       "  <thead>\n",
       "    <tr style=\"text-align: right;\">\n",
       "      <th></th>\n",
       "      <th>0</th>\n",
       "      <th>1</th>\n",
       "    </tr>\n",
       "  </thead>\n",
       "  <tbody>\n",
       "    <tr>\n",
       "      <th>0</th>\n",
       "      <td>0.269242</td>\n",
       "      <td>0.730758</td>\n",
       "    </tr>\n",
       "    <tr>\n",
       "      <th>1</th>\n",
       "      <td>0.983058</td>\n",
       "      <td>0.016942</td>\n",
       "    </tr>\n",
       "    <tr>\n",
       "      <th>2</th>\n",
       "      <td>0.913940</td>\n",
       "      <td>0.086060</td>\n",
       "    </tr>\n",
       "    <tr>\n",
       "      <th>3</th>\n",
       "      <td>0.994503</td>\n",
       "      <td>0.005497</td>\n",
       "    </tr>\n",
       "    <tr>\n",
       "      <th>4</th>\n",
       "      <td>0.950812</td>\n",
       "      <td>0.049188</td>\n",
       "    </tr>\n",
       "    <tr>\n",
       "      <th>...</th>\n",
       "      <td>...</td>\n",
       "      <td>...</td>\n",
       "    </tr>\n",
       "    <tr>\n",
       "      <th>8118</th>\n",
       "      <td>0.448470</td>\n",
       "      <td>0.551530</td>\n",
       "    </tr>\n",
       "    <tr>\n",
       "      <th>8119</th>\n",
       "      <td>0.937315</td>\n",
       "      <td>0.062685</td>\n",
       "    </tr>\n",
       "    <tr>\n",
       "      <th>8120</th>\n",
       "      <td>0.025295</td>\n",
       "      <td>0.974705</td>\n",
       "    </tr>\n",
       "    <tr>\n",
       "      <th>8121</th>\n",
       "      <td>0.929538</td>\n",
       "      <td>0.070462</td>\n",
       "    </tr>\n",
       "    <tr>\n",
       "      <th>8122</th>\n",
       "      <td>0.899260</td>\n",
       "      <td>0.100740</td>\n",
       "    </tr>\n",
       "  </tbody>\n",
       "</table>\n",
       "<p>8123 rows × 2 columns</p>\n",
       "</div>"
      ],
      "text/plain": [
       "             0         1\n",
       "0     0.269242  0.730758\n",
       "1     0.983058  0.016942\n",
       "2     0.913940  0.086060\n",
       "3     0.994503  0.005497\n",
       "4     0.950812  0.049188\n",
       "...        ...       ...\n",
       "8118  0.448470  0.551530\n",
       "8119  0.937315  0.062685\n",
       "8120  0.025295  0.974705\n",
       "8121  0.929538  0.070462\n",
       "8122  0.899260  0.100740\n",
       "\n",
       "[8123 rows x 2 columns]"
      ]
     },
     "execution_count": 51,
     "metadata": {},
     "output_type": "execute_result"
    }
   ],
   "source": [
    "prediction_train"
   ]
  },
  {
   "cell_type": "code",
   "execution_count": 52,
   "id": "63dad20a",
   "metadata": {},
   "outputs": [],
   "source": [
    "predictions=pd.Series(LR_model.predict(features_train)) ### applies a threshold of 0.5"
   ]
  },
  {
   "cell_type": "code",
   "execution_count": 53,
   "id": "208e4915",
   "metadata": {},
   "outputs": [
    {
     "data": {
      "text/plain": [
       "0       1\n",
       "1       0\n",
       "2       0\n",
       "3       0\n",
       "4       0\n",
       "       ..\n",
       "8118    1\n",
       "8119    0\n",
       "8120    1\n",
       "8121    0\n",
       "8122    0\n",
       "Length: 8123, dtype: int64"
      ]
     },
     "execution_count": 53,
     "metadata": {},
     "output_type": "execute_result"
    }
   ],
   "source": [
    "predictions"
   ]
  },
  {
   "cell_type": "code",
   "execution_count": 54,
   "id": "f36bc2d6",
   "metadata": {},
   "outputs": [
    {
     "name": "stdout",
     "output_type": "stream",
     "text": [
      "[[6607  647]\n",
      " [  86  783]]\n",
      "The F1-SCORE on the train set prediction  0.9479418886198547\n"
     ]
    }
   ],
   "source": [
    "### Getting confusion matrix, F-score on the train data #####\n",
    "\n",
    "print(confusion_matrix(y_true = target_train, y_pred = LR_model.predict(features_train))) ### confusion matrix for pred on train set\n",
    "\n",
    "print ('The F1-SCORE on the train set prediction ',f1_score(y_true=target_train,y_pred = LR_model.predict(features_train),sample_weight = target_train))"
   ]
  },
  {
   "cell_type": "code",
   "execution_count": 55,
   "id": "9a7fad74",
   "metadata": {},
   "outputs": [
    {
     "name": "stdout",
     "output_type": "stream",
     "text": [
      "[[1647  167]\n",
      " [  22  195]]\n",
      "The F1-SCORE on the test set prediction  0.9466019417475728\n"
     ]
    }
   ],
   "source": [
    "##### Lets evaluate the performace on the test set #####\n",
    "\n",
    "predicted_val = LR_model.predict(features_val)\n",
    "\n",
    "print (confusion_matrix(y_true = target_val, y_pred = predicted_val))\n",
    "\n",
    "print ('The F1-SCORE on the test set prediction ',f1_score(y_true=target_val,y_pred = predicted_val,sample_weight =target_val))"
   ]
  },
  {
   "cell_type": "code",
   "execution_count": 56,
   "id": "9317a682",
   "metadata": {},
   "outputs": [],
   "source": [
    "### Applying threshold\n",
    "\n",
    "# prediction_train['predicted_Classes_0.6'] = 0\n",
    "# prediction_train.loc[df[1]>0.6,'predicted_Classes_0.6']=1\n",
    "# prediction_train"
   ]
  },
  {
   "cell_type": "code",
   "execution_count": 57,
   "id": "4d590cc6",
   "metadata": {},
   "outputs": [
    {
     "data": {
      "text/plain": [
       "DecisionTreeClassifier(class_weight='balanced', max_depth=5,\n",
       "                       min_samples_split=25)"
      ]
     },
     "execution_count": 57,
     "metadata": {},
     "output_type": "execute_result"
    }
   ],
   "source": [
    "# Fitting Decision Tree\n",
    "\n",
    "# Good values for hyperparameter tuning\n",
    "# We experiment #\n",
    "# max_depth = 5, max_features = 8,   min_samples_split = 10, criterion = 'gini' --> Training f1 score, val f1 score\n",
    "# max_depth = 7, max_features = 10,  min_samples_split = 8 --> Training f1 score, val f1 score\n",
    "# max_depth = 9, max_features = 12,  min_samples_split = 6 --> Training f1 score, val f1 score\n",
    "# max_depth = 20, max_features = 69, min_sample_split = 2 --> Training F1 score, val f1 score\n",
    "# max_depth = 15, max_features = 50, min_sample_split = 5 --> Training F1 score, val f1 score\n",
    "\n",
    "from sklearn.tree import DecisionTreeClassifier\n",
    "clf = DecisionTreeClassifier(class_weight='balanced',max_depth = 5,criterion='gini',min_samples_split = 25)\n",
    "clf.fit(features_train,target_train)"
   ]
  },
  {
   "cell_type": "code",
   "execution_count": 58,
   "id": "15661230",
   "metadata": {},
   "outputs": [
    {
     "name": "stdout",
     "output_type": "stream",
     "text": [
      "[[6746  508]\n",
      " [  59  810]]\n",
      "F1 Score on training set 0.9648600357355569\n"
     ]
    },
    {
     "data": {
      "image/png": "[encoded data removed]",
      "text/plain": [
       "<Figure size 432x288 with 1 Axes>"
      ]
     },
     "metadata": {
      "needs_background": "light"
     },
     "output_type": "display_data"
    }
   ],
   "source": [
    "#Evaluating on train and test set\n",
    "\n",
    "predicted_train=clf.predict(features_train)\n",
    "plot_roc_curve(clf,X=features_train,y=target_train)\n",
    "\n",
    "print(confusion_matrix(y_true=target_train,y_pred=predicted_train))\n",
    "print(\"F1 Score on training set\",f1_score(y_true=target_train,y_pred=predicted_train,sample_weight=target_train))"
   ]
  },
  {
   "cell_type": "code",
   "execution_count": 59,
   "id": "15845a08",
   "metadata": {},
   "outputs": [
    {
     "name": "stdout",
     "output_type": "stream",
     "text": [
      "[[1670  144]\n",
      " [  21  196]]\n",
      "F1 Score on testing data is  0.9491525423728813\n"
     ]
    },
    {
     "data": {
      "image/png": "[encoded data removed]",
      "text/plain": [
       "<Figure size 432x288 with 1 Axes>"
      ]
     },
     "metadata": {
      "needs_background": "light"
     },
     "output_type": "display_data"
    }
   ],
   "source": [
    "predicted_test=clf.predict(features_val)\n",
    "plot_roc_curve(clf,X=features_val,y=target_val)\n",
    "\n",
    "print(confusion_matrix(y_true=target_val,y_pred=predicted_test))\n",
    "print(\"F1 Score on testing data is \",f1_score(y_true=target_val,y_pred=predicted_test,sample_weight=target_val))"
   ]
  },
  {
   "cell_type": "code",
   "execution_count": 60,
   "id": "7f87c199",
   "metadata": {},
   "outputs": [
    {
     "name": "stdout",
     "output_type": "stream",
     "text": [
      "Best parameters using grid search {'class_weight': 'balanced', 'criterion': 'entropy', 'max_depth': 15, 'min_samples_split': 5}\n"
     ]
    }
   ],
   "source": [
    "# Using Grid Search CV\n",
    "\n",
    "from sklearn.model_selection import GridSearchCV  \n",
    "clf=DecisionTreeClassifier()\n",
    "\n",
    "params={'class_weight':['balanced'],\n",
    "        'max_depth' : [4,5,6,9,10,15],\n",
    "        'criterion' :['gini','entropy'],\n",
    "        'min_samples_split' : [5,10,20,30]}\n",
    "\n",
    "grid_search = GridSearchCV(estimator = clf, param_grid = params, cv = 5, scoring = 'f1', return_train_score=True)\n",
    "grid_search.fit(features_train,target_train)\n",
    "print(\"Best parameters using grid search\",grid_search.best_params_)"
   ]
  },
  {
   "cell_type": "code",
   "execution_count": 61,
   "id": "2e08b204",
   "metadata": {},
   "outputs": [
    {
     "data": {
      "text/plain": [
       "({'class_weight': 'balanced',\n",
       "  'criterion': 'gini',\n",
       "  'max_depth': 4,\n",
       "  'min_samples_split': 5},\n",
       " 0.7003768629258216,\n",
       " 0.6780356916879271)"
      ]
     },
     "execution_count": 61,
     "metadata": {},
     "output_type": "execute_result"
    }
   ],
   "source": [
    "gs_results=grid_search.cv_results_\n",
    "gs_results['params'][0],gs_results['mean_train_score'][0],gs_results['mean_test_score'][0]"
   ]
  },
  {
   "cell_type": "code",
   "execution_count": 62,
   "id": "2b8595c2",
   "metadata": {},
   "outputs": [],
   "source": [
    "params_val = gs_results['params']\n",
    "train_score = gs_results['mean_train_score']\n",
    "test_score = gs_results['mean_test_score']\n",
    "\n",
    "df = pd.DataFrame(zip(params_val, train_score, test_score), columns = ['param_comb', 'Train_F1', 'Test_F1'])\n",
    "\n",
    "df.to_excel('grid_search_results.xlsx', index=None)"
   ]
  },
  {
   "cell_type": "code",
   "execution_count": 63,
   "id": "ae7f6e06",
   "metadata": {},
   "outputs": [
    {
     "name": "stdout",
     "output_type": "stream",
     "text": [
      "Best parameters using grid search {'class_weight': 'balanced', 'max_depth': 15, 'max_samples': 0.8, 'min_samples_split': 20, 'n_estimators': 200}\n"
     ]
    }
   ],
   "source": [
    "# Fitting Random Forest Classifier\n",
    "\n",
    "from sklearn.ensemble import RandomForestClassifier\n",
    "\n",
    "rlf = RandomForestClassifier() ### random forest function from  sklearn\n",
    "\n",
    "params={'n_estimators':[50,100,150,200,400],\n",
    "        'class_weight':['balanced'], \n",
    "        'max_depth':[5,10,12,15],\n",
    "        'min_samples_split':[5,10,20],\n",
    "        'max_samples':[0.7,0.8,0.9]} \n",
    "\n",
    "grid_search = GridSearchCV(estimator = rlf, param_grid = params, cv = 5, scoring = 'f1', return_train_score=True,n_jobs=3)\n",
    "grid_search.fit(features_train,target_train)\n",
    "print(\"Best parameters using grid search\",grid_search.best_params_)"
   ]
  },
  {
   "cell_type": "code",
   "execution_count": 66,
   "id": "fd859622",
   "metadata": {},
   "outputs": [
    {
     "name": "stdout",
     "output_type": "stream",
     "text": [
      "[[7169   85]\n",
      " [   7  862]]\n",
      "F1 Score on training set 0.9959560947429231\n",
      "[[1758   56]\n",
      " [  33  184]]\n",
      "F1 Score on testing data is  0.9177057356608479\n"
     ]
    },
    {
     "data": {
      "image/png": "[encoded data removed]",
      "text/plain": [
       "<Figure size 432x288 with 1 Axes>"
      ]
     },
     "metadata": {
      "needs_background": "light"
     },
     "output_type": "display_data"
    },
    {
     "data": {
      "image/png": "[encoded data removed]",
      "text/plain": [
       "<Figure size 432x288 with 1 Axes>"
      ]
     },
     "metadata": {
      "needs_background": "light"
     },
     "output_type": "display_data"
    }
   ],
   "source": [
    "#Evaluating on train and test set\n",
    "\n",
    "#Train Set\n",
    "fit_rlf=RandomForestClassifier(class_weight= 'balanced', max_depth= 15, max_samples= 0.8,\n",
    "                               min_samples_split= 20, n_estimators= 200)\n",
    "fit_rlf.fit(features_train,target_train)\n",
    "\n",
    "predicted_train=fit_rlf.predict(features_train)\n",
    "\n",
    "plot_roc_curve(fit_rlf,X=features_train,y=target_train)\n",
    "\n",
    "print(confusion_matrix(y_true=target_train,y_pred=predicted_train))\n",
    "print(\"F1 Score on training set\",f1_score(y_true=target_train,y_pred=predicted_train,sample_weight=target_train))\n",
    "\n",
    "# Test Set\n",
    "predicted_test=fit_rlf.predict(features_val)\n",
    "plot_roc_curve(fit_rlf,X=features_val,y=target_val)\n",
    "\n",
    "print(confusion_matrix(y_true=target_val,y_pred=predicted_test))\n",
    "print(\"F1 Score on testing data is \",f1_score(y_true=target_val,y_pred=predicted_test,sample_weight=target_val))"
   ]
  },
  {
   "cell_type": "code",
   "execution_count": null,
   "id": "f141eb4a",
   "metadata": {},
   "outputs": [],
   "source": []
  }
 ],
 "metadata": {
  "kernelspec": {
   "display_name": "Python 3 (ipykernel)",
   "language": "python",
   "name": "python3"
  },
  "language_info": {
   "codemirror_mode": {
    "name": "ipython",
    "version": 3
   },
   "file_extension": ".py",
   "mimetype": "text/x-python",
   "name": "python",
   "nbconvert_exporter": "python",
   "pygments_lexer": "ipython3",
   "version": "3.9.7"
  }
 },
 "nbformat": 4,
 "nbformat_minor": 5
}
